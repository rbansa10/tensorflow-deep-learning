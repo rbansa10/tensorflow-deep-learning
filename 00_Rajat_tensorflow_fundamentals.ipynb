{
  "nbformat": 4,
  "nbformat_minor": 0,
  "metadata": {
    "colab": {
      "provenance": [],
      "collapsed_sections": [],
      "authorship_tag": "ABX9TyOjkQmpdc+ODilgyYkF3d3i",
      "include_colab_link": true
    },
    "kernelspec": {
      "name": "python3",
      "display_name": "Python 3"
    },
    "language_info": {
      "name": "python"
    }
  },
  "cells": [
    {
      "cell_type": "markdown",
      "metadata": {
        "id": "view-in-github",
        "colab_type": "text"
      },
      "source": [
        "<a href=\"https://colab.research.google.com/github/rbansa10/tensorflow-deep-learning/blob/main/00_Rajat_tensorflow_fundamentals.ipynb\" target=\"_parent\"><img src=\"https://colab.research.google.com/assets/colab-badge.svg\" alt=\"Open In Colab\"/></a>"
      ]
    },
    {
      "cell_type": "code",
      "source": [
        "       #In this notebook we cover some of the most fundamental TensorFlow operations, more specifically:\\n,\n",
        "      #  ## Introduction to tensors (creating tensors)\\n,\n",
        "       #### Manipulating tensors (tensor operations)\\n,\n",
        "        ### Tensors and NumPy\\n,\n",
        "        ## Using @tf.function (a way to speed up your regular Python functions)\\n,\n",
        "        # Using GPUs with TensorFlow\\n,\n",
        "        ## Exercises to try\\n,\n",
        "        #\\n,\n",
        "        #Things to note:\\n,\n",
        "        ## Many of the conventions here will happen automatically behind the scenes (when you build a model) but it's worth knowing so if you see any of these things, you know what's happening.\\n,\n",
        "        ## For any TensorFlow function you see, it's important to be able to check it out in the documentation, for example, going to the Python API docs for all functions and searching for what you need: https://www.tensorflow.org/api_docs/python/ (don't worry if this seems overwhelming at first, with enough practice, you'll get used to navigating the documentaiton).\\n,\n",
        "        #\\n"
      ],
      "metadata": {
        "id": "PCdYxQdIK4tl"
      },
      "execution_count": null,
      "outputs": []
    },
    {
      "cell_type": "code",
      "execution_count": null,
      "metadata": {
        "id": "HprQgNJZDQbY"
      },
      "outputs": [],
      "source": [
        "#In this notebook will cover some fundamental cocepts of tensor using tensor flow\n",
        "#Introduction to tensors\n",
        "#Getting information from tensors\n",
        "#Manupulating tensors\n",
        "#Tensor & Numpy\n"
      ]
    },
    {
      "cell_type": "code",
      "source": [
        "# Import TensorFlow\n",
        "import tensorflow as tf\n",
        "print(tf.__version__) # find the version number (should be 2.x+)"
      ],
      "metadata": {
        "colab": {
          "base_uri": "https://localhost:8080/"
        },
        "id": "1IHldFcdPFq_",
        "outputId": "c9fac968-79d7-44f2-a929-6f2e786c4afb"
      },
      "execution_count": null,
      "outputs": [
        {
          "output_type": "stream",
          "name": "stdout",
          "text": [
            "2.8.2\n"
          ]
        }
      ]
    },
    {
      "cell_type": "code",
      "source": [
        "#Creating a scalar  with tf.constatnt\n",
        "# Create a scalar (rank 0 tensor)\n",
        "scalar = tf.constant(7)\n",
        "scalar"
      ],
      "metadata": {
        "colab": {
          "base_uri": "https://localhost:8080/"
        },
        "id": "F7b1t-T54dkp",
        "outputId": "83ca8175-7460-4204-be34-a1f0acc1ef40"
      },
      "execution_count": null,
      "outputs": [
        {
          "output_type": "execute_result",
          "data": {
            "text/plain": [
              "<tf.Tensor: shape=(), dtype=int32, numpy=7>"
            ]
          },
          "metadata": {},
          "execution_count": 4
        }
      ]
    },
    {
      "cell_type": "code",
      "source": [
        "# Check the number of dimensions of a tensor (ndim stands for number of dimensions)\n",
        "scalar.ndim"
      ],
      "metadata": {
        "colab": {
          "base_uri": "https://localhost:8080/"
        },
        "id": "6BrUeooy7Vet",
        "outputId": "877acc15-ed11-4b6f-d652-160531d56f52"
      },
      "execution_count": null,
      "outputs": [
        {
          "output_type": "execute_result",
          "data": {
            "text/plain": [
              "0"
            ]
          },
          "metadata": {},
          "execution_count": 5
        }
      ]
    },
    {
      "cell_type": "code",
      "source": [
        "# Create a vector (more than 0 dimensions)\n",
        "vector = tf.constant([10, 10])\n",
        "vector"
      ],
      "metadata": {
        "colab": {
          "base_uri": "https://localhost:8080/"
        },
        "id": "962Xpx9y7YTY",
        "outputId": "a2ccbc50-5bee-4f89-b7d6-6d7a41d50b87"
      },
      "execution_count": null,
      "outputs": [
        {
          "output_type": "execute_result",
          "data": {
            "text/plain": [
              "<tf.Tensor: shape=(2,), dtype=int32, numpy=array([10, 10], dtype=int32)>"
            ]
          },
          "metadata": {},
          "execution_count": 6
        }
      ]
    },
    {
      "cell_type": "code",
      "source": [
        "# Check the number of dimensions of our vector tensor\n",
        "vector.ndim"
      ],
      "metadata": {
        "colab": {
          "base_uri": "https://localhost:8080/"
        },
        "id": "OgV5nDfj7pR_",
        "outputId": "410d8732-3e86-45aa-8dbb-a7a9a5e04849"
      },
      "execution_count": null,
      "outputs": [
        {
          "output_type": "execute_result",
          "data": {
            "text/plain": [
              "1"
            ]
          },
          "metadata": {},
          "execution_count": 7
        }
      ]
    },
    {
      "cell_type": "code",
      "source": [
        "# Check the number of dimensions of our vector tensor\n",
        "vector.ndim"
      ],
      "metadata": {
        "colab": {
          "base_uri": "https://localhost:8080/"
        },
        "id": "PhW3yP6y78CC",
        "outputId": "30cf07f9-9cd5-4249-d34a-c99a97f2d6f8"
      },
      "execution_count": null,
      "outputs": [
        {
          "output_type": "execute_result",
          "data": {
            "text/plain": [
              "1"
            ]
          },
          "metadata": {},
          "execution_count": 8
        }
      ]
    },
    {
      "cell_type": "code",
      "source": [
        "# Create a matrix (more than 1 dimension)\n",
        "matrix = tf.constant([[10, 7],\n",
        "                      [7, 10]])\n",
        "matrix"
      ],
      "metadata": {
        "colab": {
          "base_uri": "https://localhost:8080/"
        },
        "id": "OyNAstm18DZf",
        "outputId": "db4dbc79-a891-481f-8fcd-ea73f4967939"
      },
      "execution_count": null,
      "outputs": [
        {
          "output_type": "execute_result",
          "data": {
            "text/plain": [
              "<tf.Tensor: shape=(2, 2), dtype=int32, numpy=\n",
              "array([[10,  7],\n",
              "       [ 7, 10]], dtype=int32)>"
            ]
          },
          "metadata": {},
          "execution_count": 9
        }
      ]
    },
    {
      "cell_type": "code",
      "source": [
        "matrix.ndim"
      ],
      "metadata": {
        "colab": {
          "base_uri": "https://localhost:8080/"
        },
        "id": "9UD-Hsb38JkS",
        "outputId": "967832cc-29b3-4295-cf92-f967a8739dc3"
      },
      "execution_count": null,
      "outputs": [
        {
          "output_type": "execute_result",
          "data": {
            "text/plain": [
              "2"
            ]
          },
          "metadata": {},
          "execution_count": 10
        }
      ]
    },
    {
      "cell_type": "code",
      "source": [
        "# Create another matrix and define the datatype\n",
        "another_matrix = tf.constant([[10., 7.],\n",
        "                              [3., 2.],\n",
        "                              [8., 9.]], dtype=tf.float16) # specify the datatype with 'dtype'\n",
        "another_matrix"
      ],
      "metadata": {
        "colab": {
          "base_uri": "https://localhost:8080/"
        },
        "id": "0lWthRtr-vIg",
        "outputId": "c8fe6ade-b313-4d84-dd3a-ad604cda6bd1"
      },
      "execution_count": null,
      "outputs": [
        {
          "output_type": "execute_result",
          "data": {
            "text/plain": [
              "<tf.Tensor: shape=(3, 2), dtype=float16, numpy=\n",
              "array([[10.,  7.],\n",
              "       [ 3.,  2.],\n",
              "       [ 8.,  9.]], dtype=float16)>"
            ]
          },
          "metadata": {},
          "execution_count": 11
        }
      ]
    },
    {
      "cell_type": "code",
      "source": [
        "# Even though another_matrix contains more numbers, its dimensions stay the same\n",
        "another_matrix.ndim"
      ],
      "metadata": {
        "colab": {
          "base_uri": "https://localhost:8080/"
        },
        "id": "AczJnOVK-w3v",
        "outputId": "6bee1a35-bf91-4eea-afb8-d8e1a3e67873"
      },
      "execution_count": null,
      "outputs": [
        {
          "output_type": "execute_result",
          "data": {
            "text/plain": [
              "2"
            ]
          },
          "metadata": {},
          "execution_count": 12
        }
      ]
    },
    {
      "cell_type": "code",
      "source": [
        "2\n",
        "# How about a tensor? (more than 2 dimensions, although, all of the above items are also technically tensors)\n",
        "tensor = tf.constant([[[1, 2, 3],\n",
        "                       [4, 5, 6]],\n",
        "                      [[7, 8, 9],\n",
        "                       [10, 11, 12]],\n",
        "                      [[13, 14, 15],\n",
        "                       [16, 17, 18]]])\n",
        "tensor"
      ],
      "metadata": {
        "colab": {
          "base_uri": "https://localhost:8080/"
        },
        "id": "2HW3WqXX_KyQ",
        "outputId": "64f7fdc7-04bf-4889-ba40-45d4c12d77cc"
      },
      "execution_count": null,
      "outputs": [
        {
          "output_type": "execute_result",
          "data": {
            "text/plain": [
              "<tf.Tensor: shape=(3, 2, 3), dtype=int32, numpy=\n",
              "array([[[ 1,  2,  3],\n",
              "        [ 4,  5,  6]],\n",
              "\n",
              "       [[ 7,  8,  9],\n",
              "        [10, 11, 12]],\n",
              "\n",
              "       [[13, 14, 15],\n",
              "        [16, 17, 18]]], dtype=int32)>"
            ]
          },
          "metadata": {},
          "execution_count": 13
        }
      ]
    },
    {
      "cell_type": "code",
      "source": [
        "tensor.ndim"
      ],
      "metadata": {
        "colab": {
          "base_uri": "https://localhost:8080/"
        },
        "id": "6sRnfUHT_TWv",
        "outputId": "9e207ba4-d31b-4119-d3ad-746d1ff86d51"
      },
      "execution_count": null,
      "outputs": [
        {
          "output_type": "execute_result",
          "data": {
            "text/plain": [
              "3"
            ]
          },
          "metadata": {},
          "execution_count": 14
        }
      ]
    },
    {
      "cell_type": "markdown",
      "source": [
        "This is known as a rank 3 tensor (3-dimensions), however a tensor can have an arbitrary (unlimited) amount of dimensions.\n",
        "\n",
        "For example, you might turn a series of images into tensors with shape (224, 224, 3, 32), where:\n",
        "\n",
        "224, 224 (the first 2 dimensions) are the height and width of the images in pixels.\n",
        "3 is the number of colour channels of the image (red, green blue).\n",
        "32 is the batch size (the number of images a neural network sees at any one time).\n",
        "All of the above variables we've created are actually tensors. But you may also hear them referred to as their different names (the ones we gave them):\n",
        "\n",
        "scalar: a single number.\n",
        "vector: a number with direction (e.g. wind speed with direction).\n",
        "matrix: a 2-dimensional array of numbers.\n",
        "tensor: an n-dimensional array of numbers (where n can be any number, a 0-dimension tensor is a scalar, a 1-dimension tensor is a vector).\n",
        "To add to the confusion, the terms matrix and tensor are often used interchangeably.\n",
        "\n",
        "Going forward since we're using TensorFlow, everything we refer to and use will be tensors.\n"
      ],
      "metadata": {
        "id": "YwLZX1f5HoZ_"
      }
    },
    {
      "cell_type": "code",
      "source": [
        "# Create the same tensor with tf.Variable() and tf.constant()\n",
        "changeable_tensor = tf.Variable([10, 7])\n",
        "unchangeable_tensor = tf.constant([10, 7])\n",
        "changeable_tensor, unchangeable_tensor"
      ],
      "metadata": {
        "colab": {
          "base_uri": "https://localhost:8080/"
        },
        "id": "oa8MJVhoHu94",
        "outputId": "1f178f5c-5596-4747-9264-625c4634f3d8"
      },
      "execution_count": null,
      "outputs": [
        {
          "output_type": "execute_result",
          "data": {
            "text/plain": [
              "(<tf.Variable 'Variable:0' shape=(2,) dtype=int32, numpy=array([10,  7], dtype=int32)>,\n",
              " <tf.Tensor: shape=(2,), dtype=int32, numpy=array([10,  7], dtype=int32)>)"
            ]
          },
          "metadata": {},
          "execution_count": 15
        }
      ]
    },
    {
      "cell_type": "code",
      "source": [
        "# Create two random (but the same) tensors\n",
        "random_1 = tf.random.Generator.from_seed(42) # set the seed for reproducibility\n",
        "random_1 = random_1.normal(shape=(3, 2)) # create tensor from a normal distribution \n",
        "random_2 = tf.random.Generator.from_seed(42)\n",
        "random_2 = random_2.normal(shape=(3, 2))\n",
        "\n",
        "# Are they equal?\n",
        "random_1, random_2, random_1 == random_2"
      ],
      "metadata": {
        "id": "g5R3JenWN3k4",
        "colab": {
          "base_uri": "https://localhost:8080/"
        },
        "outputId": "9f677eaf-c870-44fd-8c5c-2a1478e56ec1"
      },
      "execution_count": null,
      "outputs": [
        {
          "output_type": "execute_result",
          "data": {
            "text/plain": [
              "(<tf.Tensor: shape=(3, 2), dtype=float32, numpy=\n",
              " array([[-0.7565803 , -0.06854702],\n",
              "        [ 0.07595026, -1.2573844 ],\n",
              "        [-0.23193763, -1.8107855 ]], dtype=float32)>,\n",
              " <tf.Tensor: shape=(3, 2), dtype=float32, numpy=\n",
              " array([[-0.7565803 , -0.06854702],\n",
              "        [ 0.07595026, -1.2573844 ],\n",
              "        [-0.23193763, -1.8107855 ]], dtype=float32)>,\n",
              " <tf.Tensor: shape=(3, 2), dtype=bool, numpy=\n",
              " array([[ True,  True],\n",
              "        [ True,  True],\n",
              "        [ True,  True]])>)"
            ]
          },
          "metadata": {},
          "execution_count": 16
        }
      ]
    },
    {
      "cell_type": "code",
      "source": [
        "# Create two random (and different) tensors\n",
        "random_3 = tf.random.Generator.from_seed(42)\n",
        "random_3 = random_3.normal(shape=(3, 2))\n",
        "random_4 = tf.random.Generator.from_seed(11)\n",
        "random_4 = random_4.normal(shape=(3, 2))\n",
        "\n",
        "# Check the tensors and see if they are equal\n",
        "random_3, random_4, random_1 == random_3, random_3 == random_4"
      ],
      "metadata": {
        "colab": {
          "base_uri": "https://localhost:8080/"
        },
        "id": "GMo7QH3NPGuS",
        "outputId": "d1d173f9-34ed-42bf-b22b-2940f10292c9"
      },
      "execution_count": null,
      "outputs": [
        {
          "output_type": "execute_result",
          "data": {
            "text/plain": [
              "(<tf.Tensor: shape=(3, 2), dtype=float32, numpy=\n",
              " array([[-0.7565803 , -0.06854702],\n",
              "        [ 0.07595026, -1.2573844 ],\n",
              "        [-0.23193763, -1.8107855 ]], dtype=float32)>,\n",
              " <tf.Tensor: shape=(3, 2), dtype=float32, numpy=\n",
              " array([[ 0.27305737, -0.29925638],\n",
              "        [-0.3652325 ,  0.61883307],\n",
              "        [-1.0130816 ,  0.28291714]], dtype=float32)>,\n",
              " <tf.Tensor: shape=(3, 2), dtype=bool, numpy=\n",
              " array([[ True,  True],\n",
              "        [ True,  True],\n",
              "        [ True,  True]])>,\n",
              " <tf.Tensor: shape=(3, 2), dtype=bool, numpy=\n",
              " array([[False, False],\n",
              "        [False, False],\n",
              "        [False, False]])>)"
            ]
          },
          "metadata": {},
          "execution_count": 17
        }
      ]
    },
    {
      "cell_type": "code",
      "source": [
        "# Shuffle a tensor (valuable for when you want to shuffle your data)\n",
        "not_shuffled = tf.constant([[10, 7],\n",
        "                            [3, 4],\n",
        "                            [2, 5]])\n",
        "# Gets different results each time\n",
        "tf.random.shuffle(not_shuffled)\n",
        "#tf.random.shuffle(not_shuffled, seed=42)"
      ],
      "metadata": {
        "colab": {
          "base_uri": "https://localhost:8080/"
        },
        "id": "0o2Oxa2dPj_i",
        "outputId": "58b09400-409b-42c8-8bfb-0345f024df1e"
      },
      "execution_count": null,
      "outputs": [
        {
          "output_type": "execute_result",
          "data": {
            "text/plain": [
              "<tf.Tensor: shape=(3, 2), dtype=int32, numpy=\n",
              "array([[ 3,  4],\n",
              "       [10,  7],\n",
              "       [ 2,  5]], dtype=int32)>"
            ]
          },
          "metadata": {},
          "execution_count": 18
        }
      ]
    },
    {
      "cell_type": "code",
      "source": [
        "tf.random.from_seed=42\n",
        "tf.random.shuffle(not_shuffled)"
      ],
      "metadata": {
        "colab": {
          "base_uri": "https://localhost:8080/"
        },
        "id": "5dUR6_1xVU6f",
        "outputId": "47153ce6-2757-4291-baaf-dab0234b61c1"
      },
      "execution_count": null,
      "outputs": [
        {
          "output_type": "execute_result",
          "data": {
            "text/plain": [
              "<tf.Tensor: shape=(3, 2), dtype=int32, numpy=\n",
              "array([[10,  7],\n",
              "       [ 2,  5],\n",
              "       [ 3,  4]], dtype=int32)>"
            ]
          },
          "metadata": {},
          "execution_count": 19
        }
      ]
    },
    {
      "cell_type": "code",
      "source": [
        "tf.random.shuffle(not_shuffled, seed=42)"
      ],
      "metadata": {
        "colab": {
          "base_uri": "https://localhost:8080/"
        },
        "id": "LgaqU2SDWniP",
        "outputId": "4c7ed6f8-5080-4864-feb5-b01ff6924ccb"
      },
      "execution_count": null,
      "outputs": [
        {
          "output_type": "execute_result",
          "data": {
            "text/plain": [
              "<tf.Tensor: shape=(3, 2), dtype=int32, numpy=\n",
              "array([[ 2,  5],\n",
              "       [ 3,  4],\n",
              "       [10,  7]], dtype=int32)>"
            ]
          },
          "metadata": {},
          "execution_count": 20
        }
      ]
    },
    {
      "cell_type": "code",
      "source": [
        "#Because, \"Operations that rely on a random seed actually derive it from two seeds: the global and operation-level seeds. This sets the global seed.\"\n",
        "\n",
        "# Shuffle in the same order every time\n",
        "\n",
        "# Set the global random seed\n",
        "tf.random.set_seed(42)\n",
        "\n",
        "# Set the operation random seed\n",
        "tf.random.shuffle(not_shuffled, seed=42)"
      ],
      "metadata": {
        "colab": {
          "base_uri": "https://localhost:8080/"
        },
        "id": "ak1vQINuXTl3",
        "outputId": "deb8c34c-53f0-4319-bce1-2e426270a998"
      },
      "execution_count": null,
      "outputs": [
        {
          "output_type": "execute_result",
          "data": {
            "text/plain": [
              "<tf.Tensor: shape=(3, 2), dtype=int32, numpy=\n",
              "array([[10,  7],\n",
              "       [ 3,  4],\n",
              "       [ 2,  5]], dtype=int32)>"
            ]
          },
          "metadata": {},
          "execution_count": 21
        }
      ]
    },
    {
      "cell_type": "code",
      "source": [
        "# Set the global random seed\n",
        "#tf.random.set_seed(42) # if you comment this out you'll get different results\n",
        "\n",
        "# Set the operation random seed\n",
        "tf.random.shuffle(not_shuffled)"
      ],
      "metadata": {
        "colab": {
          "base_uri": "https://localhost:8080/"
        },
        "id": "JI0tsYo7k8hE",
        "outputId": "8bff81a0-9c19-4c90-cffa-c3a7e98a03b9"
      },
      "execution_count": null,
      "outputs": [
        {
          "output_type": "execute_result",
          "data": {
            "text/plain": [
              "<tf.Tensor: shape=(3, 2), dtype=int32, numpy=\n",
              "array([[ 3,  4],\n",
              "       [ 2,  5],\n",
              "       [10,  7]], dtype=int32)>"
            ]
          },
          "metadata": {},
          "execution_count": 22
        }
      ]
    },
    {
      "cell_type": "markdown",
      "source": [
        "Other way to make tensors"
      ],
      "metadata": {
        "id": "r-Zal8-HlPbh"
      }
    },
    {
      "cell_type": "code",
      "source": [
        "# Make a tensor of all ones\n",
        "#tf.ones(shape=(3, 2))\n",
        "tf.ones([10,3])"
      ],
      "metadata": {
        "colab": {
          "base_uri": "https://localhost:8080/"
        },
        "id": "IpRyDmoUlOQK",
        "outputId": "dc94b1fd-1c08-41a4-c42a-f6b92edc7519"
      },
      "execution_count": null,
      "outputs": [
        {
          "output_type": "execute_result",
          "data": {
            "text/plain": [
              "<tf.Tensor: shape=(10, 3), dtype=float32, numpy=\n",
              "array([[1., 1., 1.],\n",
              "       [1., 1., 1.],\n",
              "       [1., 1., 1.],\n",
              "       [1., 1., 1.],\n",
              "       [1., 1., 1.],\n",
              "       [1., 1., 1.],\n",
              "       [1., 1., 1.],\n",
              "       [1., 1., 1.],\n",
              "       [1., 1., 1.],\n",
              "       [1., 1., 1.]], dtype=float32)>"
            ]
          },
          "metadata": {},
          "execution_count": 23
        }
      ]
    },
    {
      "cell_type": "code",
      "source": [
        "tf.zeros([10,3])"
      ],
      "metadata": {
        "colab": {
          "base_uri": "https://localhost:8080/"
        },
        "id": "v-JKN3ZOlzhc",
        "outputId": "e5ad328e-c90c-48ec-e80a-7f240e32c75e"
      },
      "execution_count": null,
      "outputs": [
        {
          "output_type": "execute_result",
          "data": {
            "text/plain": [
              "<tf.Tensor: shape=(10, 3), dtype=float32, numpy=\n",
              "array([[0., 0., 0.],\n",
              "       [0., 0., 0.],\n",
              "       [0., 0., 0.],\n",
              "       [0., 0., 0.],\n",
              "       [0., 0., 0.],\n",
              "       [0., 0., 0.],\n",
              "       [0., 0., 0.],\n",
              "       [0., 0., 0.],\n",
              "       [0., 0., 0.],\n",
              "       [0., 0., 0.]], dtype=float32)>"
            ]
          },
          "metadata": {},
          "execution_count": 24
        }
      ]
    },
    {
      "cell_type": "markdown",
      "source": [
        "\n",
        "YouCreate a tensor with shape [10] using your own choice of values, then find the index which has the maximum value.VCreate a tensor with shape [10] using your own choice of values, then find the index which has the maximum value.Create a tensor with shape [10] using your own choice of values, then find the index which has the maximum value.Create a tensor with shape [10] using your own choice of values, then find the index which has the maximum value.Create a tensor with shape [10] using your own choice of values, then find the index which has the maximum value.Create a tensor with shape [10] using your own choice of values, then find the index which has the maximum value.Create a tensor with shape [10] using your own choice of values, then find the index which has the maximum value.Create a tensor with shapeCreate a tensor with shape## can also turn NumPy arrays in into tensors.\n",
        "\n",
        "Remember, the main difference between tensors and NumPy arrays is that tensors can be run on GPUs."
      ],
      "metadata": {
        "id": "G7HDGiDtahtz"
      }
    },
    {
      "cell_type": "code",
      "source": [
        "# Create two tensors containing random values between 0 and 1 with shape [5, 300]\n",
        "#Create a tensor with random values between 0 and 1 with shape [224, 224, 3]\n",
        "print(tf.random.uniform(shape=[5,3], minval=0., maxval=1.))\n",
        "print(tf.random.uniform(shape=[2, 2, 3], minval=0., maxval=1.))"
      ],
      "metadata": {
        "colab": {
          "base_uri": "https://localhost:8080/"
        },
        "id": "cMJ9ldXMG4iS",
        "outputId": "5a40a8b8-b6af-49ea-a1dc-25f0d1f8870f"
      },
      "execution_count": null,
      "outputs": [
        {
          "output_type": "stream",
          "name": "stdout",
          "text": [
            "tf.Tensor(\n",
            "[[0.7746148  0.6257328  0.1602453 ]\n",
            " [0.6231724  0.02529967 0.48571026]\n",
            " [0.24565434 0.8705108  0.51043224]\n",
            " [0.71748567 0.085379   0.9628047 ]\n",
            " [0.895291   0.9887872  0.8026477 ]], shape=(5, 3), dtype=float32)\n",
            "tf.Tensor(\n",
            "[[[0.90322065 0.43687415 0.6078882 ]\n",
            "  [0.11864161 0.906978   0.33785415]]\n",
            "\n",
            " [[0.6862916  0.5397941  0.54017305]\n",
            "  [0.5451559  0.9808973  0.5941633 ]]], shape=(2, 2, 3), dtype=float32)\n"
          ]
        }
      ]
    },
    {
      "cell_type": "code",
      "source": [
        "from numpy.core.fromnumeric import ndim\n",
        "import numpy as np\n",
        "numpy_A = np.arange(1, 25, dtype=np.int32) # create a NumPy array between 1 and 25\n",
        "\n",
        "\n",
        "A = tf.constant(numpy_A,  \n",
        "                shape=[2, 3, 4]) # note: the shape total (2*3*4) has to match the number of elements in the array\n",
        "numpy_A, A\n",
        "A.ndim,numpy_A.ndim\n"
      ],
      "metadata": {
        "id": "mo6ryhOAl4Xu",
        "colab": {
          "base_uri": "https://localhost:8080/"
        },
        "outputId": "f175e3c5-9f36-4a6b-d516-db1d70b0e8bc"
      },
      "execution_count": null,
      "outputs": [
        {
          "output_type": "execute_result",
          "data": {
            "text/plain": [
              "(3, 1)"
            ]
          },
          "metadata": {},
          "execution_count": 25
        }
      ]
    },
    {
      "cell_type": "code",
      "source": [
        "\n",
        "B = tf.constant(numpy_A,  \n",
        "                shape=[4, 3, 2]) # note: the shape total (2*3*4)\n",
        "B\n"
      ],
      "metadata": {
        "colab": {
          "base_uri": "https://localhost:8080/"
        },
        "id": "roWGQwU3aqUs",
        "outputId": "c229e374-9257-47c3-d45a-1e89b20fb232"
      },
      "execution_count": null,
      "outputs": [
        {
          "output_type": "execute_result",
          "data": {
            "text/plain": [
              "<tf.Tensor: shape=(4, 3, 2), dtype=int32, numpy=\n",
              "array([[[ 1,  2],\n",
              "        [ 3,  4],\n",
              "        [ 5,  6]],\n",
              "\n",
              "       [[ 7,  8],\n",
              "        [ 9, 10],\n",
              "        [11, 12]],\n",
              "\n",
              "       [[13, 14],\n",
              "        [15, 16],\n",
              "        [17, 18]],\n",
              "\n",
              "       [[19, 20],\n",
              "        [21, 22],\n",
              "        [23, 24]]], dtype=int32)>"
            ]
          },
          "metadata": {},
          "execution_count": 26
        }
      ]
    },
    {
      "cell_type": "code",
      "source": [
        "\n",
        "C=tf.constant(numpy_A, shape=[3,8]) # note: the shape total (3*8)\n",
        "C\n"
      ],
      "metadata": {
        "colab": {
          "base_uri": "https://localhost:8080/"
        },
        "id": "u7TqcPJceZsV",
        "outputId": "8f1fe82a-00f0-4f86-9c79-de3f176baecc"
      },
      "execution_count": null,
      "outputs": [
        {
          "output_type": "execute_result",
          "data": {
            "text/plain": [
              "<tf.Tensor: shape=(3, 8), dtype=int32, numpy=\n",
              "array([[ 1,  2,  3,  4,  5,  6,  7,  8],\n",
              "       [ 9, 10, 11, 12, 13, 14, 15, 16],\n",
              "       [17, 18, 19, 20, 21, 22, 23, 24]], dtype=int32)>"
            ]
          },
          "metadata": {},
          "execution_count": 27
        }
      ]
    },
    {
      "cell_type": "markdown",
      "source": [
        "##Getting information from tensors (shape, rank, size)\n",
        "There will be times when you'll want to get different pieces of information from your tensors, in particular, you should know the following tensor vocabulary:\n",
        "\n",
        ">Shape: The length (number of elements) of each of the dimensions of a tensor.\n",
        ">Rank: The number of tensor dimensions. A scalar has rank 0, a vector has rank 1, a matrix is rank 2, a tensor has rank n.\n",
        ">Axis or Dimension: A particular dimension of a tensor.\n",
        ">Size: The total number of items in the tensor.\n",
        "\n",
        "You'll use these especially when you're trying to line up the shapes of your data to the shapes of your model. For example, making sure the shape of your image tensors are the same shape as your models input layer.\n",
        "\n",
        "We've already seen one of these before using the ndim attribute. Let's see the rest."
      ],
      "metadata": {
        "id": "FTEALnJ8fSwy"
      }
    },
    {
      "cell_type": "code",
      "source": [
        "# Create a rank 4 tensor (4 dimensions)\n",
        "rank_4_tensor = tf.zeros([2, 3, 4, 5])\n",
        "rank_4_tensor"
      ],
      "metadata": {
        "id": "N6ClA6gXfdGK",
        "colab": {
          "base_uri": "https://localhost:8080/"
        },
        "outputId": "bbc1a2d7-c3d2-436e-dc1a-2d5e020d6eeb"
      },
      "execution_count": null,
      "outputs": [
        {
          "output_type": "execute_result",
          "data": {
            "text/plain": [
              "<tf.Tensor: shape=(2, 3, 4, 5), dtype=float32, numpy=\n",
              "array([[[[0., 0., 0., 0., 0.],\n",
              "         [0., 0., 0., 0., 0.],\n",
              "         [0., 0., 0., 0., 0.],\n",
              "         [0., 0., 0., 0., 0.]],\n",
              "\n",
              "        [[0., 0., 0., 0., 0.],\n",
              "         [0., 0., 0., 0., 0.],\n",
              "         [0., 0., 0., 0., 0.],\n",
              "         [0., 0., 0., 0., 0.]],\n",
              "\n",
              "        [[0., 0., 0., 0., 0.],\n",
              "         [0., 0., 0., 0., 0.],\n",
              "         [0., 0., 0., 0., 0.],\n",
              "         [0., 0., 0., 0., 0.]]],\n",
              "\n",
              "\n",
              "       [[[0., 0., 0., 0., 0.],\n",
              "         [0., 0., 0., 0., 0.],\n",
              "         [0., 0., 0., 0., 0.],\n",
              "         [0., 0., 0., 0., 0.]],\n",
              "\n",
              "        [[0., 0., 0., 0., 0.],\n",
              "         [0., 0., 0., 0., 0.],\n",
              "         [0., 0., 0., 0., 0.],\n",
              "         [0., 0., 0., 0., 0.]],\n",
              "\n",
              "        [[0., 0., 0., 0., 0.],\n",
              "         [0., 0., 0., 0., 0.],\n",
              "         [0., 0., 0., 0., 0.],\n",
              "         [0., 0., 0., 0., 0.]]]], dtype=float32)>"
            ]
          },
          "metadata": {},
          "execution_count": 28
        }
      ]
    },
    {
      "cell_type": "code",
      "source": [
        "rank_4_tensor.shape, rank_4_tensor.ndim, tf.size(rank_4_tensor)"
      ],
      "metadata": {
        "colab": {
          "base_uri": "https://localhost:8080/"
        },
        "id": "j_BsmB5rRTXg",
        "outputId": "cc5d53bc-54d4-4b21-9fb2-a9e575114a44"
      },
      "execution_count": null,
      "outputs": [
        {
          "output_type": "execute_result",
          "data": {
            "text/plain": [
              "(TensorShape([2, 3, 4, 5]), 4, <tf.Tensor: shape=(), dtype=int32, numpy=120>)"
            ]
          },
          "metadata": {},
          "execution_count": 29
        }
      ]
    },
    {
      "cell_type": "code",
      "source": [
        "# Get various attributes of tensor\n",
        "print(\"Datatype of every element:\", rank_4_tensor.dtype)\n",
        "print(\"Number of dimensions (rank):\", rank_4_tensor.ndim)\n",
        "print(\"Shape of tensor:\", rank_4_tensor.shape)\n",
        "print(\"Elements along axis 0 of tensor:\", rank_4_tensor.shape[0])\n",
        "print(\"Elements along last axis of tensor:\", rank_4_tensor.shape[-1])\n",
        "print(\"Total number of elements (2*3*4*5):\", tf.size(rank_4_tensor).numpy()) # .numpy() converts to NumPy array"
      ],
      "metadata": {
        "colab": {
          "base_uri": "https://localhost:8080/"
        },
        "id": "7kLSbjrGRUl9",
        "outputId": "4284dae7-06db-4c1d-f4da-80f8c4e14085"
      },
      "execution_count": null,
      "outputs": [
        {
          "output_type": "stream",
          "name": "stdout",
          "text": [
            "Datatype of every element: <dtype: 'float32'>\n",
            "Number of dimensions (rank): 4\n",
            "Shape of tensor: (2, 3, 4, 5)\n",
            "Elements along axis 0 of tensor: 2\n",
            "Elements along last axis of tensor: 5\n",
            "Total number of elements (2*3*4*5): 120\n"
          ]
        }
      ]
    },
    {
      "cell_type": "code",
      "source": [
        "# Indexing Tensor\n",
        "##  You can also index tensors just like Python lists."
      ],
      "metadata": {
        "id": "Up2drxcLR0EX"
      },
      "execution_count": null,
      "outputs": []
    },
    {
      "cell_type": "code",
      "source": [
        "# lets type first 2 element of each tensor\n",
        "rank_4_tensor[:2,:2,:2,:2]"
      ],
      "metadata": {
        "id": "dQfKchxwRZf0",
        "colab": {
          "base_uri": "https://localhost:8080/"
        },
        "outputId": "4d3f5789-0f6f-4b07-fd90-37d13e9b719d"
      },
      "execution_count": null,
      "outputs": [
        {
          "output_type": "execute_result",
          "data": {
            "text/plain": [
              "<tf.Tensor: shape=(2, 2, 2, 2), dtype=float32, numpy=\n",
              "array([[[[0., 0.],\n",
              "         [0., 0.]],\n",
              "\n",
              "        [[0., 0.],\n",
              "         [0., 0.]]],\n",
              "\n",
              "\n",
              "       [[[0., 0.],\n",
              "         [0., 0.]],\n",
              "\n",
              "        [[0., 0.],\n",
              "         [0., 0.]]]], dtype=float32)>"
            ]
          },
          "metadata": {},
          "execution_count": 32
        }
      ]
    },
    {
      "cell_type": "code",
      "source": [
        "#Get the first elememt from dimention except from 1st lement of 2nd tensor\n",
        "#rank_4_tensor[:1,:1,:1,:1] #shape=(1, 1, 1, 1), dtype=float32, numpy=array([[[[0.]]]], dtype=float32)>\n",
        "#rank_4_tensor[:1,:1,:1,:]  #shape=(1, 1, 1, 5), dtype=float32, numpy=array([[[[0., 0., 0., 0., 0.]]]], dtype=float32)>\n",
        "#rank_4_tensor[:1,:1,:,:1]  # shape=(1, 1, 4, 1), dtype=float32, numpy=\n",
        "                                                                      #array([[[[0.],\n",
        "                                                                               #[0.],\n",
        "                                                                               #[0.],\n",
        "                                                                               #[0.]]]], dtype=float32)>\n",
        "#rank_4_tensor[:1,:,:1,:1] #<tf.Tensor: shape=(1, 3, 1, 1), dtype=float32, numpy=\n",
        "                                                                      #array([[[[0.]],\n",
        "                                                                             # [[0.]],\n",
        "                                                                              #[0.]]]], dtype=float32)>\n",
        "rank_4_tensor[:,:1,:1,:1] #shape=(2, 1, 1, 1), dtype=float32, numpy=\n",
        "                                                                  #array([[[[0.]]],\n",
        "                                                                  # [[[0.]]]], dtype=float32)>"
      ],
      "metadata": {
        "colab": {
          "base_uri": "https://localhost:8080/"
        },
        "id": "TrLkGXAMc5ld",
        "outputId": "a9bae40a-9e4c-42bd-f344-d086cc315f17"
      },
      "execution_count": null,
      "outputs": [
        {
          "output_type": "execute_result",
          "data": {
            "text/plain": [
              "<tf.Tensor: shape=(2, 1, 1, 1), dtype=float32, numpy=\n",
              "array([[[[0.]]],\n",
              "\n",
              "\n",
              "       [[[0.]]]], dtype=float32)>"
            ]
          },
          "metadata": {},
          "execution_count": 33
        }
      ]
    },
    {
      "cell_type": "code",
      "source": [
        "\n",
        "# lets create rank 2 tensor\n",
        "rank_2_tensor= tf.constant([[2,5],\n",
        "                           [3,4]])\n",
        "rank_2_tensor.shape, rank_2_tensor.ndim\n",
        " #let get 1st element of each row\n",
        "rank_2_tensor[:,:1] #shape=(2, 1), dtype=int32, numpy=\n",
        "                                                    #array([[2],\n",
        "                                                    #[3]], dtype=int32)>\n",
        "\n",
        "#let get last element of each row\n",
        "#rank_2_tensor[:,-1] #shape=(2,), dtype=int32, numpy=array([5, 4], dtype=int32)>\n",
        "\n"
      ],
      "metadata": {
        "colab": {
          "base_uri": "https://localhost:8080/"
        },
        "id": "VxjWcyhudKsZ",
        "outputId": "14f521b5-9ae5-416d-a515-24754d45b28e"
      },
      "execution_count": null,
      "outputs": [
        {
          "output_type": "execute_result",
          "data": {
            "text/plain": [
              "<tf.Tensor: shape=(2, 1), dtype=int32, numpy=\n",
              "array([[2],\n",
              "       [3]], dtype=int32)>"
            ]
          },
          "metadata": {},
          "execution_count": 34
        }
      ]
    },
    {
      "cell_type": "code",
      "source": [
        "##Reshape Tesor: Add extra dimension to our tensor\n",
        "rank_3_tensor = rank_2_tensor[..., tf.newaxis]\n",
        "rank_3_tensor\n"
      ],
      "metadata": {
        "colab": {
          "base_uri": "https://localhost:8080/"
        },
        "id": "yWGHwPa1ifI4",
        "outputId": "e0982970-bde4-4402-a6e7-7f61b19e3331"
      },
      "execution_count": null,
      "outputs": [
        {
          "output_type": "execute_result",
          "data": {
            "text/plain": [
              "<tf.Tensor: shape=(2, 2, 1), dtype=int32, numpy=\n",
              "array([[[2],\n",
              "        [5]],\n",
              "\n",
              "       [[3],\n",
              "        [4]]], dtype=int32)>"
            ]
          },
          "metadata": {},
          "execution_count": 35
        }
      ]
    },
    {
      "cell_type": "code",
      "source": [
        "# Alternative to tf.newaxis\n",
        "tf.expand_dims(rank_2_tensor, axis=-1)"
      ],
      "metadata": {
        "colab": {
          "base_uri": "https://localhost:8080/"
        },
        "id": "zprQ2pQljMGn",
        "outputId": "cbd48ad5-41d5-41c4-8e16-d157bda5a0ea"
      },
      "execution_count": null,
      "outputs": [
        {
          "output_type": "execute_result",
          "data": {
            "text/plain": [
              "<tf.Tensor: shape=(2, 2, 1), dtype=int32, numpy=\n",
              "array([[[2],\n",
              "        [5]],\n",
              "\n",
              "       [[3],\n",
              "        [4]]], dtype=int32)>"
            ]
          },
          "metadata": {},
          "execution_count": 36
        }
      ]
    },
    {
      "cell_type": "code",
      "source": [
        "# Alternative to tf.newaxis () is tf.expand_dims see axis value 1 is added as the existing shape on basis of axis value\n",
        "tf.expand_dims(rank_2_tensor, axis=0)"
      ],
      "metadata": {
        "colab": {
          "base_uri": "https://localhost:8080/"
        },
        "id": "6R7iYtmPlFtB",
        "outputId": "9f5fdbd0-5fb2-488e-9c4e-61f6efa0e538"
      },
      "execution_count": null,
      "outputs": [
        {
          "output_type": "execute_result",
          "data": {
            "text/plain": [
              "<tf.Tensor: shape=(1, 2, 2), dtype=int32, numpy=\n",
              "array([[[2, 5],\n",
              "        [3, 4]]], dtype=int32)>"
            ]
          },
          "metadata": {},
          "execution_count": 37
        }
      ]
    },
    {
      "cell_type": "code",
      "source": [
        "# Alternative to tf.newaxis\n",
        "tf.expand_dims(rank_2_tensor, axis=1)"
      ],
      "metadata": {
        "colab": {
          "base_uri": "https://localhost:8080/"
        },
        "id": "1OpAcQgUlIgG",
        "outputId": "5c350c1b-e55d-4ad0-8eb3-46877ac153ad"
      },
      "execution_count": null,
      "outputs": [
        {
          "output_type": "execute_result",
          "data": {
            "text/plain": [
              "<tf.Tensor: shape=(2, 1, 2), dtype=int32, numpy=\n",
              "array([[[2, 5]],\n",
              "\n",
              "       [[3, 4]]], dtype=int32)>"
            ]
          },
          "metadata": {},
          "execution_count": 38
        }
      ]
    },
    {
      "cell_type": "markdown",
      "source": [
        "##Manipulating the tensor operations\n",
        "**Basic operations**\n",
        "'+','-'.'*'.'/'\n"
      ],
      "metadata": {
        "id": "vy6TjAI-lsgt"
      }
    },
    {
      "cell_type": "code",
      "source": [
        "#Add Value to Tensor\n",
        "\n",
        "tensor=tf.constant([[10,7],[3,4]])\n",
        "tensor+10\n"
      ],
      "metadata": {
        "colab": {
          "base_uri": "https://localhost:8080/"
        },
        "id": "YtQ8FGlDlmsG",
        "outputId": "ab0d58fa-8e5d-423d-99f8-12f8ae24908f"
      },
      "execution_count": null,
      "outputs": [
        {
          "output_type": "execute_result",
          "data": {
            "text/plain": [
              "<tf.Tensor: shape=(2, 2), dtype=int32, numpy=\n",
              "array([[20, 17],\n",
              "       [13, 14]], dtype=int32)>"
            ]
          },
          "metadata": {},
          "execution_count": 39
        }
      ]
    },
    {
      "cell_type": "code",
      "source": [
        "# Tensor not changed till you pass value like tensor = tensor +10\n",
        "tensor"
      ],
      "metadata": {
        "colab": {
          "base_uri": "https://localhost:8080/"
        },
        "id": "1xigBVXZmw5G",
        "outputId": "77650391-8402-4ded-ad68-ad4d5f90cf77"
      },
      "execution_count": null,
      "outputs": [
        {
          "output_type": "execute_result",
          "data": {
            "text/plain": [
              "<tf.Tensor: shape=(2, 2), dtype=int32, numpy=\n",
              "array([[10,  7],\n",
              "       [ 3,  4]], dtype=int32)>"
            ]
          },
          "metadata": {},
          "execution_count": 40
        }
      ]
    },
    {
      "cell_type": "code",
      "source": [
        "#Subtraction\n",
        "tensor-1"
      ],
      "metadata": {
        "colab": {
          "base_uri": "https://localhost:8080/"
        },
        "id": "pG2zsFeInGb_",
        "outputId": "6f08d85a-35e1-4a21-f986-29a280808374"
      },
      "execution_count": null,
      "outputs": [
        {
          "output_type": "execute_result",
          "data": {
            "text/plain": [
              "<tf.Tensor: shape=(2, 2), dtype=int32, numpy=\n",
              "array([[9, 6],\n",
              "       [2, 3]], dtype=int32)>"
            ]
          },
          "metadata": {},
          "execution_count": 41
        }
      ]
    },
    {
      "cell_type": "code",
      "source": [
        "#multiplication\n",
        "tensor *10"
      ],
      "metadata": {
        "colab": {
          "base_uri": "https://localhost:8080/"
        },
        "id": "SSjLkX3BnW8x",
        "outputId": "a902c57f-1c7a-4196-ff73-34ecd10a6065"
      },
      "execution_count": null,
      "outputs": [
        {
          "output_type": "execute_result",
          "data": {
            "text/plain": [
              "<tf.Tensor: shape=(2, 2), dtype=int32, numpy=\n",
              "array([[100,  70],\n",
              "       [ 30,  40]], dtype=int32)>"
            ]
          },
          "metadata": {},
          "execution_count": 42
        }
      ]
    },
    {
      "cell_type": "code",
      "source": [
        "#Divide\n",
        "tensor/2"
      ],
      "metadata": {
        "colab": {
          "base_uri": "https://localhost:8080/"
        },
        "id": "XHOpwg7vnc3S",
        "outputId": "be62efee-3ef8-4cc6-ff3d-40703663f74a"
      },
      "execution_count": null,
      "outputs": [
        {
          "output_type": "execute_result",
          "data": {
            "text/plain": [
              "<tf.Tensor: shape=(2, 2), dtype=float64, numpy=\n",
              "array([[5. , 3.5],\n",
              "       [1.5, 2. ]])>"
            ]
          },
          "metadata": {},
          "execution_count": 43
        }
      ]
    },
    {
      "cell_type": "code",
      "source": [
        "#Alternative tf.math.multiply or alias tf.multiply\n",
        "tf.multiply(tensor,10)\n",
        "tf.add(tensor,10)\n",
        "tf.divide(tensor, 2)\n",
        "tf.subtract(tensor,1)"
      ],
      "metadata": {
        "colab": {
          "base_uri": "https://localhost:8080/"
        },
        "id": "2HNo7ltAnitV",
        "outputId": "c379d387-88eb-4240-c8b5-44c6784d19f0"
      },
      "execution_count": null,
      "outputs": [
        {
          "output_type": "execute_result",
          "data": {
            "text/plain": [
              "<tf.Tensor: shape=(2, 2), dtype=int32, numpy=\n",
              "array([[9, 6],\n",
              "       [2, 3]], dtype=int32)>"
            ]
          },
          "metadata": {},
          "execution_count": 44
        }
      ]
    },
    {
      "cell_type": "markdown",
      "source": [
        "##MAtrix Multiplications\n",
        "http://matrixmultiplication.xyz\n",
        "\n",
        "https://www.mathsisfun.com/algebra/matrix-multiplying.html\n",
        "\n",
        "Rows and Columns\n",
        "To show how many rows and columns a matrix has we often write rows×columns.\n",
        "**To multiply an m×n matrix by an n×p matrix, the ns must be the same,and the result is an m×p matrix.\n",
        "matrix multiply rows cols**\n",
        "\n",
        "Example: This matrix is 2×3 (2 rows by 3 columns):\n",
        "\n",
        "2x3 Matrix\n",
        "\n",
        "When we do multiplication:\n",
        "\n",
        "The number of columns of the 1st matrix must equal the number of rows of the 2nd matrix.\n",
        "And the result will have the same number of rows as the 1st matrix, and the same number of columns as the 2nd matrix.\n"
      ],
      "metadata": {
        "id": "aPpa35c5ongw"
      }
    },
    {
      "cell_type": "code",
      "source": [
        "tensor @ tensor"
      ],
      "metadata": {
        "colab": {
          "base_uri": "https://localhost:8080/"
        },
        "id": "1JzX925cn5Og",
        "outputId": "d23896ef-c9d8-4b75-87db-c8b0680e75f0"
      },
      "execution_count": null,
      "outputs": [
        {
          "output_type": "execute_result",
          "data": {
            "text/plain": [
              "<tf.Tensor: shape=(2, 2), dtype=int32, numpy=\n",
              "array([[121,  98],\n",
              "       [ 42,  37]], dtype=int32)>"
            ]
          },
          "metadata": {},
          "execution_count": 45
        }
      ]
    },
    {
      "cell_type": "code",
      "source": [
        "# lets do the non- square tensor multiplication\n",
        "\n",
        "x=tf.constant([[1,2,],[3,4],[5,6]])\n",
        "x.shape, x.ndim #(TensorShape([3, 2]), 2)\n"
      ],
      "metadata": {
        "colab": {
          "base_uri": "https://localhost:8080/"
        },
        "id": "xu_igfLbpwTF",
        "outputId": "96ee07dd-b371-4993-e634-873cec291b06"
      },
      "execution_count": null,
      "outputs": [
        {
          "output_type": "execute_result",
          "data": {
            "text/plain": [
              "(TensorShape([3, 2]), 2)"
            ]
          },
          "metadata": {},
          "execution_count": 46
        }
      ]
    },
    {
      "cell_type": "code",
      "source": [
        "y=tf.constant([[10,9],[8,7]])\n",
        "y.shape, y.ndim #(TensorShape([2, 2]), 2)"
      ],
      "metadata": {
        "colab": {
          "base_uri": "https://localhost:8080/"
        },
        "id": "1zWLA-XlFsWa",
        "outputId": "538e1e8a-52fc-47e1-a1f7-9c6d8fede7e6"
      },
      "execution_count": null,
      "outputs": [
        {
          "output_type": "execute_result",
          "data": {
            "text/plain": [
              "(TensorShape([2, 2]), 2)"
            ]
          },
          "metadata": {},
          "execution_count": 47
        }
      ]
    },
    {
      "cell_type": "code",
      "source": [
        "x @ y"
      ],
      "metadata": {
        "colab": {
          "base_uri": "https://localhost:8080/"
        },
        "id": "o5qhnALlFvlT",
        "outputId": "70d8bc78-27be-4625-f23e-9f1728cb4060"
      },
      "execution_count": null,
      "outputs": [
        {
          "output_type": "execute_result",
          "data": {
            "text/plain": [
              "<tf.Tensor: shape=(3, 2), dtype=int32, numpy=\n",
              "array([[26, 23],\n",
              "       [62, 55],\n",
              "       [98, 87]], dtype=int32)>"
            ]
          },
          "metadata": {},
          "execution_count": 48
        }
      ]
    },
    {
      "cell_type": "code",
      "source": [
        "# Matrix multiplication using tf.matmul\n",
        "tf.matmul(x,y) # same as before"
      ],
      "metadata": {
        "colab": {
          "base_uri": "https://localhost:8080/"
        },
        "id": "fT59FdO4E66A",
        "outputId": "2c9681df-3028-42cd-b963-aec31bce0258"
      },
      "execution_count": null,
      "outputs": [
        {
          "output_type": "execute_result",
          "data": {
            "text/plain": [
              "<tf.Tensor: shape=(3, 2), dtype=int32, numpy=\n",
              "array([[26, 23],\n",
              "       [62, 55],\n",
              "       [98, 87]], dtype=int32)>"
            ]
          },
          "metadata": {},
          "execution_count": 49
        }
      ]
    },
    {
      "cell_type": "markdown",
      "source": [
        "# Rules of Martix multiplication\n",
        "TensorFlow implements this matrix multiplication functionality in the tf.matmul() method.\n",
        "\n",
        "The main two rules for matrix multiplication to remember are:\n",
        "\n",
        "The inner dimensions must match:\n",
        "(3, 5) @ (3, 5) won't work\n",
        "(5, 3) @ (3, 5) will work\n",
        "(3, 5) @ (5, 3) will work\n",
        "The resulting matrix has the shape of the outer dimensions:\n",
        "(5, 3) @ (3, 5) -> (5, 5)\n",
        "(3, 5) @ (5, 3) -> (3, 3)\n",
        "🔑 Note: '@' in Python is the symbol for matrix multiplication."
      ],
      "metadata": {
        "id": "LD6I7mM7H0ZV"
      }
    },
    {
      "cell_type": "code",
      "source": [
        "#create a tensor of diffrent sizes\n",
        "p=tf.constant([[1,2,3,1],[4,5,6,1],[7,8,9,1]])\n",
        "q=tf.constant([[9,8],[7,6],[5,4], [1,1]])\n",
        "print(p.shape, q.shape)\n",
        "print(p @ q)\n",
        "print(tf.matmul(p,q))"
      ],
      "metadata": {
        "colab": {
          "base_uri": "https://localhost:8080/"
        },
        "id": "k1y4verBFYA9",
        "outputId": "ad2fe85d-bc70-46b7-b81a-7bb61d5ded12"
      },
      "execution_count": null,
      "outputs": [
        {
          "output_type": "stream",
          "name": "stdout",
          "text": [
            "(3, 4) (4, 2)\n",
            "tf.Tensor(\n",
            "[[ 39  33]\n",
            " [102  87]\n",
            " [165 141]], shape=(3, 2), dtype=int32)\n",
            "tf.Tensor(\n",
            "[[ 39  33]\n",
            " [102  87]\n",
            " [165 141]], shape=(3, 2), dtype=int32)\n"
          ]
        }
      ]
    },
    {
      "cell_type": "code",
      "source": [
        "# Create (3, 2) tensor\n",
        "a = tf.constant([[1, 2],\n",
        "                 [3, 4],\n",
        "                 [5, 6]])\n",
        "\n",
        "# Create another (3, 2) tensor\n",
        "b = tf.constant([[7, 8],\n",
        "                 [9, 10],\n",
        "                 [11, 12]])\n",
        "print(a, b)\n",
        "a@b"
      ],
      "metadata": {
        "colab": {
          "base_uri": "https://localhost:8080/",
          "height": 467
        },
        "id": "aXOET4kGGWYl",
        "outputId": "4b3e1c91-f5f7-4cef-a1db-7cfdb2fdba80"
      },
      "execution_count": null,
      "outputs": [
        {
          "output_type": "stream",
          "name": "stdout",
          "text": [
            "tf.Tensor(\n",
            "[[1 2]\n",
            " [3 4]\n",
            " [5 6]], shape=(3, 2), dtype=int32) tf.Tensor(\n",
            "[[ 7  8]\n",
            " [ 9 10]\n",
            " [11 12]], shape=(3, 2), dtype=int32)\n"
          ]
        },
        {
          "output_type": "error",
          "ename": "InvalidArgumentError",
          "evalue": "ignored",
          "traceback": [
            "\u001b[0;31m---------------------------------------------------------------------------\u001b[0m",
            "\u001b[0;31mInvalidArgumentError\u001b[0m                      Traceback (most recent call last)",
            "\u001b[0;32m<ipython-input-52-7e63846b8922>\u001b[0m in \u001b[0;36m<module>\u001b[0;34m\u001b[0m\n\u001b[1;32m      9\u001b[0m                  [11, 12]])\n\u001b[1;32m     10\u001b[0m \u001b[0mprint\u001b[0m\u001b[0;34m(\u001b[0m\u001b[0ma\u001b[0m\u001b[0;34m,\u001b[0m \u001b[0mb\u001b[0m\u001b[0;34m)\u001b[0m\u001b[0;34m\u001b[0m\u001b[0;34m\u001b[0m\u001b[0m\n\u001b[0;32m---> 11\u001b[0;31m \u001b[0ma\u001b[0m\u001b[0;34m@\u001b[0m\u001b[0mb\u001b[0m\u001b[0;34m\u001b[0m\u001b[0;34m\u001b[0m\u001b[0m\n\u001b[0m",
            "\u001b[0;32m/usr/local/lib/python3.7/dist-packages/tensorflow/python/util/traceback_utils.py\u001b[0m in \u001b[0;36merror_handler\u001b[0;34m(*args, **kwargs)\u001b[0m\n\u001b[1;32m    151\u001b[0m     \u001b[0;32mexcept\u001b[0m \u001b[0mException\u001b[0m \u001b[0;32mas\u001b[0m \u001b[0me\u001b[0m\u001b[0;34m:\u001b[0m\u001b[0;34m\u001b[0m\u001b[0;34m\u001b[0m\u001b[0m\n\u001b[1;32m    152\u001b[0m       \u001b[0mfiltered_tb\u001b[0m \u001b[0;34m=\u001b[0m \u001b[0m_process_traceback_frames\u001b[0m\u001b[0;34m(\u001b[0m\u001b[0me\u001b[0m\u001b[0;34m.\u001b[0m\u001b[0m__traceback__\u001b[0m\u001b[0;34m)\u001b[0m\u001b[0;34m\u001b[0m\u001b[0;34m\u001b[0m\u001b[0m\n\u001b[0;32m--> 153\u001b[0;31m       \u001b[0;32mraise\u001b[0m \u001b[0me\u001b[0m\u001b[0;34m.\u001b[0m\u001b[0mwith_traceback\u001b[0m\u001b[0;34m(\u001b[0m\u001b[0mfiltered_tb\u001b[0m\u001b[0;34m)\u001b[0m \u001b[0;32mfrom\u001b[0m \u001b[0;32mNone\u001b[0m\u001b[0;34m\u001b[0m\u001b[0;34m\u001b[0m\u001b[0m\n\u001b[0m\u001b[1;32m    154\u001b[0m     \u001b[0;32mfinally\u001b[0m\u001b[0;34m:\u001b[0m\u001b[0;34m\u001b[0m\u001b[0;34m\u001b[0m\u001b[0m\n\u001b[1;32m    155\u001b[0m       \u001b[0;32mdel\u001b[0m \u001b[0mfiltered_tb\u001b[0m\u001b[0;34m\u001b[0m\u001b[0;34m\u001b[0m\u001b[0m\n",
            "\u001b[0;32m/usr/local/lib/python3.7/dist-packages/tensorflow/python/framework/ops.py\u001b[0m in \u001b[0;36mraise_from_not_ok_status\u001b[0;34m(e, name)\u001b[0m\n\u001b[1;32m   7184\u001b[0m \u001b[0;32mdef\u001b[0m \u001b[0mraise_from_not_ok_status\u001b[0m\u001b[0;34m(\u001b[0m\u001b[0me\u001b[0m\u001b[0;34m,\u001b[0m \u001b[0mname\u001b[0m\u001b[0;34m)\u001b[0m\u001b[0;34m:\u001b[0m\u001b[0;34m\u001b[0m\u001b[0;34m\u001b[0m\u001b[0m\n\u001b[1;32m   7185\u001b[0m   \u001b[0me\u001b[0m\u001b[0;34m.\u001b[0m\u001b[0mmessage\u001b[0m \u001b[0;34m+=\u001b[0m \u001b[0;34m(\u001b[0m\u001b[0;34m\" name: \"\u001b[0m \u001b[0;34m+\u001b[0m \u001b[0mname\u001b[0m \u001b[0;32mif\u001b[0m \u001b[0mname\u001b[0m \u001b[0;32mis\u001b[0m \u001b[0;32mnot\u001b[0m \u001b[0;32mNone\u001b[0m \u001b[0;32melse\u001b[0m \u001b[0;34m\"\"\u001b[0m\u001b[0;34m)\u001b[0m\u001b[0;34m\u001b[0m\u001b[0;34m\u001b[0m\u001b[0m\n\u001b[0;32m-> 7186\u001b[0;31m   \u001b[0;32mraise\u001b[0m \u001b[0mcore\u001b[0m\u001b[0;34m.\u001b[0m\u001b[0m_status_to_exception\u001b[0m\u001b[0;34m(\u001b[0m\u001b[0me\u001b[0m\u001b[0;34m)\u001b[0m \u001b[0;32mfrom\u001b[0m \u001b[0;32mNone\u001b[0m  \u001b[0;31m# pylint: disable=protected-access\u001b[0m\u001b[0;34m\u001b[0m\u001b[0;34m\u001b[0m\u001b[0m\n\u001b[0m\u001b[1;32m   7187\u001b[0m \u001b[0;34m\u001b[0m\u001b[0m\n\u001b[1;32m   7188\u001b[0m \u001b[0;34m\u001b[0m\u001b[0m\n",
            "\u001b[0;31mInvalidArgumentError\u001b[0m: Matrix size-incompatible: In[0]: [3,2], In[1]: [3,2] [Op:MatMul]"
          ]
        }
      ]
    },
    {
      "cell_type": "markdown",
      "source": [
        "Trying to matrix multiply two tensors with the shape (3, 2) errors because the inner dimensions don't match.\n",
        "\n",
        "We need to either:\n",
        "\n",
        "Reshape X to (2, 3) so it's (2, 3) @ (3, 2).\n",
        "Reshape Y to (3, 2) so it's (3, 2) @ (2, 3).\n",
        "We can do this with either:\n",
        "\n",
        "tf.reshape() - allows us to reshape a tensor into a defined shape.\n",
        "tf.transpose() - switches the dimensions of a given tensor."
      ],
      "metadata": {
        "id": "9BNR4rHmIaiK"
      }
    },
    {
      "cell_type": "code",
      "source": [
        "# Example of reshape (3, 2) -> (2, 3)\n",
        "print(b)\n",
        "c=tf.reshape(b, shape=(2, 3)) # like aranging by FIFO\n",
        "print(c)\n",
        "d=tf.transpose(b)# move col to row\n",
        "print(d)\n",
        "\n",
        "print(a@c)\n",
        "print(a@d)\n"
      ],
      "metadata": {
        "id": "BUqqsdv5JOZj",
        "colab": {
          "base_uri": "https://localhost:8080/"
        },
        "outputId": "b874f454-9fba-41e2-9ab8-654b3a0ea79c"
      },
      "execution_count": null,
      "outputs": [
        {
          "output_type": "stream",
          "name": "stdout",
          "text": [
            "tf.Tensor(\n",
            "[[ 7  8]\n",
            " [ 9 10]\n",
            " [11 12]], shape=(3, 2), dtype=int32)\n",
            "tf.Tensor(\n",
            "[[ 7  8  9]\n",
            " [10 11 12]], shape=(2, 3), dtype=int32)\n",
            "tf.Tensor(\n",
            "[[ 7  9 11]\n",
            " [ 8 10 12]], shape=(2, 3), dtype=int32)\n",
            "tf.Tensor(\n",
            "[[ 27  30  33]\n",
            " [ 61  68  75]\n",
            " [ 95 106 117]], shape=(3, 3), dtype=int32)\n",
            "tf.Tensor(\n",
            "[[ 23  29  35]\n",
            " [ 53  67  81]\n",
            " [ 83 105 127]], shape=(3, 3), dtype=int32)\n"
          ]
        }
      ]
    },
    {
      "cell_type": "code",
      "source": [
        "# The dot product will use tf.tensordot\n",
        "#perform on dot\n",
        "tf.tensordot(a,d, axes=0)"
      ],
      "metadata": {
        "id": "Q95n0OakNYXl",
        "colab": {
          "base_uri": "https://localhost:8080/"
        },
        "outputId": "599af53d-8d6f-47fb-fe24-dfb22c051f49"
      },
      "execution_count": null,
      "outputs": [
        {
          "output_type": "execute_result",
          "data": {
            "text/plain": [
              "<tf.Tensor: shape=(3, 2, 2, 3), dtype=int32, numpy=\n",
              "array([[[[ 7,  9, 11],\n",
              "         [ 8, 10, 12]],\n",
              "\n",
              "        [[14, 18, 22],\n",
              "         [16, 20, 24]]],\n",
              "\n",
              "\n",
              "       [[[21, 27, 33],\n",
              "         [24, 30, 36]],\n",
              "\n",
              "        [[28, 36, 44],\n",
              "         [32, 40, 48]]],\n",
              "\n",
              "\n",
              "       [[[35, 45, 55],\n",
              "         [40, 50, 60]],\n",
              "\n",
              "        [[42, 54, 66],\n",
              "         [48, 60, 72]]]], dtype=int32)>"
            ]
          },
          "metadata": {},
          "execution_count": 54
        }
      ]
    },
    {
      "cell_type": "markdown",
      "source": [
        "##Change Datat type of tensor\n",
        "**You can change the datatype of a tensor using tf.cast().**\n"
      ],
      "metadata": {
        "id": "wSOMOVwR4Xfd"
      }
    },
    {
      "cell_type": "code",
      "source": [
        "# create new tensor\n",
        "B= tf.constant([[1,7], [7.2,3.3]]) \n",
        "B.dtype\n",
        "\n",
        "# Create a new tensor with default datatype (int32)\n",
        "C = tf.constant([1, 7])\n",
        "B, C"
      ],
      "metadata": {
        "colab": {
          "base_uri": "https://localhost:8080/"
        },
        "id": "KWBRdGzN4LFh",
        "outputId": "d64a00d1-293f-420c-ca4d-23f4d27af610"
      },
      "execution_count": null,
      "outputs": [
        {
          "output_type": "execute_result",
          "data": {
            "text/plain": [
              "(<tf.Tensor: shape=(2, 2), dtype=float32, numpy=\n",
              " array([[1. , 7. ],\n",
              "        [7.2, 3.3]], dtype=float32)>,\n",
              " <tf.Tensor: shape=(2,), dtype=int32, numpy=array([1, 7], dtype=int32)>)"
            ]
          },
          "metadata": {},
          "execution_count": 55
        }
      ]
    },
    {
      "cell_type": "code",
      "source": [
        "# Change from float32 to float16 (reduced precision)\n",
        "B = tf.cast(B, dtype=tf.float16)\n",
        "B"
      ],
      "metadata": {
        "colab": {
          "base_uri": "https://localhost:8080/"
        },
        "id": "ysXKaUDl4t54",
        "outputId": "eff26da7-0578-40ad-81db-8756a8b64119"
      },
      "execution_count": null,
      "outputs": [
        {
          "output_type": "execute_result",
          "data": {
            "text/plain": [
              "<tf.Tensor: shape=(2, 2), dtype=float16, numpy=\n",
              "array([[1. , 7. ],\n",
              "       [7.2, 3.3]], dtype=float16)>"
            ]
          },
          "metadata": {},
          "execution_count": 56
        }
      ]
    },
    {
      "cell_type": "code",
      "source": [
        "# Change from float32 to int32 (reduced precision)\n",
        "B = tf.cast(B, dtype=tf.int32)\n",
        "B"
      ],
      "metadata": {
        "colab": {
          "base_uri": "https://localhost:8080/"
        },
        "id": "2NOWok4F60NW",
        "outputId": "8eb5b744-f119-42ba-b6cb-b311960abc16"
      },
      "execution_count": null,
      "outputs": [
        {
          "output_type": "execute_result",
          "data": {
            "text/plain": [
              "<tf.Tensor: shape=(2, 2), dtype=int32, numpy=\n",
              "array([[1, 7],\n",
              "       [7, 3]], dtype=int32)>"
            ]
          },
          "metadata": {},
          "execution_count": 57
        }
      ]
    },
    {
      "cell_type": "code",
      "source": [
        "# Change from int32 to float32\n",
        "C = tf.cast(C, dtype=tf.float32)\n",
        "C"
      ],
      "metadata": {
        "colab": {
          "base_uri": "https://localhost:8080/"
        },
        "id": "9Nz8uDns63d3",
        "outputId": "43294176-cc73-45c7-8c1b-1e6865f89c4a"
      },
      "execution_count": null,
      "outputs": [
        {
          "output_type": "execute_result",
          "data": {
            "text/plain": [
              "<tf.Tensor: shape=(2,), dtype=float32, numpy=array([1., 7.], dtype=float32)>"
            ]
          },
          "metadata": {},
          "execution_count": 58
        }
      ]
    },
    {
      "cell_type": "markdown",
      "source": [
        "##Getting the absolute value, Finding the min, max, mean, sum (aggregation)\n",
        "Sometimes you'll want the absolute values (all values are positive) of elements in your tensors.\n",
        "You can quickly aggregate (perform a calculation on a whole tensor) tensors to find things like the minimum value, maximum value, mean and sum of all the elements.\n",
        "\n",
        "*To do so, you can use tf.abs()\n",
        "\n",
        "*tf.reduce_min() - find the minimum value in a tensor.\n",
        "\n",
        "*tf.reduce_max() - find the maximum value in a tensor (helpful for when you want to find the highest prediction probability).\n",
        "\n",
        "*tf.reduce_mean() - find the mean of all elements in a tensor.\n",
        "\n",
        "*tf.reduce_sum() - find the sum of all elements in a tensor.\n",
        "\n",
        "Note: typically, each of these is under the math module, e.g. tf.math.reduce_min() but you can use the alias tf.reduce_min()."
      ],
      "metadata": {
        "id": "xGTYT_Yf9bPX"
      }
    },
    {
      "cell_type": "code",
      "source": [
        "# Lets create abs value like mod\n",
        "D= tf.constant([[-7,-10]])\n",
        "D, tf.abs(D)\n"
      ],
      "metadata": {
        "colab": {
          "base_uri": "https://localhost:8080/"
        },
        "id": "6Q_m-mvA9YUJ",
        "outputId": "2f7f2ed5-2d5c-4c84-c564-c9583e406370"
      },
      "execution_count": null,
      "outputs": [
        {
          "output_type": "execute_result",
          "data": {
            "text/plain": [
              "(<tf.Tensor: shape=(1, 2), dtype=int32, numpy=array([[ -7, -10]], dtype=int32)>,\n",
              " <tf.Tensor: shape=(1, 2), dtype=int32, numpy=array([[ 7, 10]], dtype=int32)>)"
            ]
          },
          "metadata": {},
          "execution_count": 59
        }
      ]
    },
    {
      "cell_type": "code",
      "source": [
        "# Lets create a a tensor of 100 values to further work on aggregation\n",
        "np.random.seed(0)\n",
        "E=tf.constant(np.random.randint(0,100, size=50))\n",
        "E"
      ],
      "metadata": {
        "colab": {
          "base_uri": "https://localhost:8080/"
        },
        "id": "8G4cIFPFAloM",
        "outputId": "81f54985-ae9f-4ebd-927c-90ea9a412b17"
      },
      "execution_count": null,
      "outputs": [
        {
          "output_type": "execute_result",
          "data": {
            "text/plain": [
              "<tf.Tensor: shape=(50,), dtype=int64, numpy=\n",
              "array([44, 47, 64, 67, 67,  9, 83, 21, 36, 87, 70, 88, 88, 12, 58, 65, 39,\n",
              "       87, 46, 88, 81, 37, 25, 77, 72,  9, 20, 80, 69, 79, 47, 64, 82, 99,\n",
              "       88, 49, 29, 19, 19, 14, 39, 32, 65,  9, 57, 32, 31, 74, 23, 35])>"
            ]
          },
          "metadata": {},
          "execution_count": 60
        }
      ]
    },
    {
      "cell_type": "code",
      "source": [
        "tf.size(E),E.shape,E.ndim"
      ],
      "metadata": {
        "colab": {
          "base_uri": "https://localhost:8080/"
        },
        "id": "Z_NrPUKNBi9J",
        "outputId": "87e67787-50d4-464f-b174-69793a09cc9b"
      },
      "execution_count": null,
      "outputs": [
        {
          "output_type": "execute_result",
          "data": {
            "text/plain": [
              "(<tf.Tensor: shape=(), dtype=int32, numpy=50>, TensorShape([50]), 1)"
            ]
          },
          "metadata": {},
          "execution_count": 61
        }
      ]
    },
    {
      "cell_type": "code",
      "source": [
        "#tf.reduce_prod(E)\n",
        "#tf.reduce_any(E) # not working\n",
        "print(\"Min Value\",tf.reduce_min(E),\"Max Value\",tf.reduce_max(E),\"MEAN\",tf.reduce_mean(E),\"SUM\", tf.reduce_sum(E))\n",
        "#print(tf.reduce_logsumexp(E))# not working"
      ],
      "metadata": {
        "colab": {
          "base_uri": "https://localhost:8080/"
        },
        "id": "kEL9H9jNBry1",
        "outputId": "18451332-5467-46ff-fe9a-ad2333dbb537"
      },
      "execution_count": null,
      "outputs": [
        {
          "output_type": "stream",
          "name": "stdout",
          "text": [
            "Min Value tf.Tensor(9, shape=(), dtype=int64) Max Value tf.Tensor(99, shape=(), dtype=int64) MEAN tf.Tensor(52, shape=(), dtype=int64) SUM tf.Tensor(2622, shape=(), dtype=int64)\n"
          ]
        }
      ]
    },
    {
      "cell_type": "code",
      "source": [
        "# Create a tensor with 50 values between 0 and 1\n",
        "F = tf.constant(np.random.random(50))\n",
        "print(F)\n",
        "# Find the maximum element position of F\n",
        "print(f\"The maximum value of F is at position: {tf.argmax(F).numpy()}\") \n",
        "print(f\"The maximum value of F is: {tf.reduce_max(F).numpy()}\") \n",
        "print(f\"Using tf.argmax() to index F, the maximum value of F is: {F[tf.argmax(F)].numpy()}\")\n",
        "print(f\"Are the two max values the same (they should be)? {F[tf.argmax(F)].numpy() == tf.reduce_max(F).numpy()}\")"
      ],
      "metadata": {
        "id": "ZFrOS6iVCO99",
        "colab": {
          "base_uri": "https://localhost:8080/"
        },
        "outputId": "3e514eed-b4d3-41cc-f045-25ec3b8b9a0d"
      },
      "execution_count": null,
      "outputs": [
        {
          "output_type": "stream",
          "name": "stdout",
          "text": [
            "tf.Tensor(\n",
            "[0.18633234 0.73691818 0.21655035 0.13521817 0.32414101 0.14967487\n",
            " 0.22232139 0.38648898 0.90259848 0.44994999 0.61306346 0.90234858\n",
            " 0.09928035 0.96980907 0.65314004 0.17090959 0.35815217 0.75068614\n",
            " 0.60783067 0.32504723 0.03842543 0.63427406 0.95894927 0.65279032\n",
            " 0.63505887 0.99529957 0.58185033 0.41436859 0.4746975  0.6235101\n",
            " 0.33800761 0.67475232 0.31720174 0.77834548 0.94957105 0.66252687\n",
            " 0.01357164 0.6228461  0.67365963 0.971945   0.87819347 0.50962438\n",
            " 0.05571469 0.45115921 0.01998767 0.44171092 0.97958673 0.35944446\n",
            " 0.48089353 0.68866118], shape=(50,), dtype=float64)\n",
            "The maximum value of F is at position: 25\n",
            "The maximum value of F is: 0.9952995676778876\n",
            "Using tf.argmax() to index F, the maximum value of F is: 0.9952995676778876\n",
            "Are the two max values the same (they should be)? True\n"
          ]
        }
      ]
    },
    {
      "cell_type": "code",
      "source": [
        "# To find the Variance\n",
        "import tensorflow_probability as tfp\n",
        "tfp.stats.variance(E)"
      ],
      "metadata": {
        "colab": {
          "base_uri": "https://localhost:8080/"
        },
        "id": "D8BwXkOCdvZ_",
        "outputId": "44afbf68-d0e4-4b4e-c743-1c22f0841b18"
      },
      "execution_count": null,
      "outputs": [
        {
          "output_type": "execute_result",
          "data": {
            "text/plain": [
              "<tf.Tensor: shape=(), dtype=int64, numpy=693>"
            ]
          },
          "metadata": {},
          "execution_count": 64
        }
      ]
    },
    {
      "cell_type": "code",
      "source": [
        "# Find Standard deveation, tensor need to be in float, if not one ccan use tf.cast(E, dtpye=tgf.float32)\n",
        "tfp.stats.stddev(F)"
      ],
      "metadata": {
        "colab": {
          "base_uri": "https://localhost:8080/"
        },
        "id": "WoN27Uu6gmKM",
        "outputId": "65332ee5-f8cb-4554-adf2-759768653daf"
      },
      "execution_count": null,
      "outputs": [
        {
          "output_type": "execute_result",
          "data": {
            "text/plain": [
              "<tf.Tensor: shape=(), dtype=float64, numpy=0.2859837823883614>"
            ]
          },
          "metadata": {},
          "execution_count": 65
        }
      ]
    },
    {
      "cell_type": "markdown",
      "source": [
        "#Squeezing a tensor (removing all single dimensions)"
      ],
      "metadata": {
        "id": "BdpWnnAy0Fkj"
      }
    },
    {
      "cell_type": "code",
      "source": [
        "\n",
        "#If you need to remove single-dimensions from a tensor (dimensions with size 1), you can use tf.squeeze().\n",
        "\n",
        "#tf.squeeze() - remove all dimensions of 1 from a tensor.\n",
        "# Create a rank 5 (5 dimensions) tensor of 50 numbers between 0 and 100\n",
        "#G = tf.constant(np.random.randint(0, 100, 50), shape=(1, 1, 1, 1, 50))\n",
        "G1 = tf.random.Generator.from_seed(1)\n",
        "print(G1.normal(shape=[2, 3]))\n",
        "G2 = tf.random.get_global_generator()\n",
        "print(G2.normal(shape=[2, 3]))\n",
        "#G=print(G1, G2)\n",
        "H=tf.random.uniform(\n",
        "    shape=([10,1,1,1,10]),\n",
        "    minval=0.001,\n",
        "    maxval=0.999999,\n",
        "    dtype=tf.dtypes.float32,\n",
        "    seed=None,\n",
        "    name=None\n",
        ")\n",
        "#G=tf.constant(np.ranadom.random(50))\n",
        "G=G1.normal(shape=[10,1,10])\n",
        "#G1.shape, G1.ndim\n",
        "G,H"
      ],
      "metadata": {
        "colab": {
          "base_uri": "https://localhost:8080/"
        },
        "id": "wHcV69p_e_KR",
        "outputId": "68c8eb68-6496-4074-ae74-5034c71ff77b"
      },
      "execution_count": null,
      "outputs": [
        {
          "output_type": "stream",
          "name": "stdout",
          "text": [
            "tf.Tensor(\n",
            "[[ 0.43842274 -0.53439844 -0.07710262]\n",
            " [ 1.5658046  -0.1012345  -0.2744976 ]], shape=(2, 3), dtype=float32)\n",
            "tf.Tensor(\n",
            "[[-2.0188575  -0.27965054 -0.06437171]\n",
            " [-0.84400845  1.0100092  -0.5039189 ]], shape=(2, 3), dtype=float32)\n"
          ]
        },
        {
          "output_type": "execute_result",
          "data": {
            "text/plain": [
              "(<tf.Tensor: shape=(10, 1, 10), dtype=float32, numpy=\n",
              " array([[[-0.4495664 ,  1.6220769 , -1.3694807 ,  0.8306355 ,\n",
              "           0.2776104 , -0.52194345,  0.1151574 ,  1.3032064 ,\n",
              "           1.328346  , -1.7339838 ]],\n",
              " \n",
              "        [[ 0.90426886,  0.56855273, -1.2169818 ,  1.3774033 ,\n",
              "          -0.4654596 , -0.51368004, -0.5356597 , -0.4981093 ,\n",
              "          -1.2551429 ,  0.14776349]],\n",
              " \n",
              "        [[-1.0173497 , -1.0449705 ,  0.2018814 , -0.3598549 ,\n",
              "           0.15951356, -0.2555016 ,  1.4733889 , -1.8130383 ,\n",
              "          -0.693323  ,  0.61685944]],\n",
              " \n",
              "        [[ 1.5261401 ,  0.2814539 ,  0.5874055 , -2.6013858 ,\n",
              "          -0.08184431,  0.6960376 ,  0.46095666, -0.32418954,\n",
              "          -0.29361764, -0.9503776 ]],\n",
              " \n",
              "        [[-1.3266118 ,  0.81958914,  0.45071423, -1.309792  ,\n",
              "           0.24234071, -0.787105  , -2.30758   ,  0.33405608,\n",
              "          -0.15303648,  0.01744596]],\n",
              " \n",
              "        [[-1.5772557 , -0.48296517, -1.7738078 , -0.288972  ,\n",
              "           1.1628032 , -0.1326091 ,  0.31408092, -1.3913906 ,\n",
              "           1.262673  , -1.773243  ]],\n",
              " \n",
              "        [[ 0.4318268 ,  0.20475836,  1.2664986 , -0.3202877 ,\n",
              "          -0.803249  ,  0.19952655, -0.90956813,  0.87516177,\n",
              "           0.2741728 , -0.6023854 ]],\n",
              " \n",
              "        [[-1.5683298 , -0.38682768,  0.3047328 , -0.19426432,\n",
              "           0.8986306 , -1.2717465 ,  0.19417287, -0.25473988,\n",
              "           1.0286719 ,  0.49195045]],\n",
              " \n",
              "        [[ 1.2696285 , -1.3536168 ,  0.26905736, -1.2612078 ,\n",
              "          -1.0798843 , -1.906409  ,  1.3262483 ,  1.3250229 ,\n",
              "          -0.5515071 , -0.03015503]],\n",
              " \n",
              "        [[-0.43633208,  0.5685589 , -1.6014094 , -0.77681184,\n",
              "          -0.41809645,  0.69898045,  1.535117  ,  2.1339467 ,\n",
              "           0.05286428, -0.14428426]]], dtype=float32)>,\n",
              " <tf.Tensor: shape=(10, 1, 1, 1, 10), dtype=float32, numpy=\n",
              " array([[[[[0.6882027 , 0.48499385, 0.93106246, 0.25293458, 0.73142207,\n",
              "            0.89267474, 0.94680053, 0.749584  , 0.34990665, 0.54763484]]]],\n",
              " \n",
              " \n",
              " \n",
              "        [[[[0.26234207, 0.6976452 , 0.12050606, 0.53530806, 0.7151812 ,\n",
              "            0.87514186, 0.34033492, 0.17460231, 0.44240978, 0.9009244 ]]]],\n",
              " \n",
              " \n",
              " \n",
              "        [[[[0.13890046, 0.12305745, 0.5758731 , 0.94177544, 0.9187389 ,\n",
              "            0.5974871 , 0.61133665, 0.8210409 , 0.83286434, 0.8916924 ]]]],\n",
              " \n",
              " \n",
              " \n",
              "        [[[[0.01475846, 0.49857607, 0.57546103, 0.6859332 , 0.7599673 ,\n",
              "            0.90903413, 0.40959275, 0.876638  , 0.5393608 , 0.4279032 ]]]],\n",
              " \n",
              " \n",
              " \n",
              "        [[[[0.4017714 , 0.66656554, 0.164317  , 0.18302007, 0.9704304 ,\n",
              "            0.06233585, 0.53081656, 0.9870114 , 0.4752193 , 0.8648099 ]]]],\n",
              " \n",
              " \n",
              " \n",
              "        [[[[0.20380747, 0.11536995, 0.3516511 , 0.6825889 , 0.18190742,\n",
              "            0.8165309 , 0.65685934, 0.92589885, 0.23993209, 0.8367583 ]]]],\n",
              " \n",
              " \n",
              " \n",
              "        [[[[0.04860502, 0.80091417, 0.83009595, 0.1441403 , 0.8618252 ,\n",
              "            0.9707485 , 0.67828065, 0.5645595 , 0.62574404, 0.8654497 ]]]],\n",
              " \n",
              " \n",
              " \n",
              "        [[[[0.16188447, 0.11190253, 0.61685514, 0.6039519 , 0.6307558 ,\n",
              "            0.52177894, 0.81884277, 0.20649378, 0.19122727, 0.14734025]]]],\n",
              " \n",
              " \n",
              " \n",
              "        [[[[0.15004669, 0.8596212 , 0.9168151 , 0.5049904 , 0.8658019 ,\n",
              "            0.70363337, 0.5348366 , 0.35157904, 0.63350105, 0.8417563 ]]]],\n",
              " \n",
              " \n",
              " \n",
              "        [[[[0.43516937, 0.29729092, 0.84921706, 0.20635587, 0.39083585,\n",
              "            0.59132844, 0.87889224, 0.7200062 , 0.1003726 , 0.94812614]]]]],\n",
              "       dtype=float32)>)"
            ]
          },
          "metadata": {},
          "execution_count": 66
        }
      ]
    },
    {
      "cell_type": "code",
      "source": [
        "# Squeeze tensor G (remove all 1 dimensions)\n",
        "G_squeezed = tf.squeeze(G)\n",
        "H_squeezed= tf.squeeze(H)\n",
        "print(f\"The new dimention from earlier ({H.shape, H.ndim}) after squeesing(removing 1 dimension) : {G_squeezed.shape, G_squeezed.ndim}\")\n",
        "print(f\"The new dimension from earlier ({H.shape, H.ndim}) after squeesing(removing 1 dimension) : {H_squeezed.shape, H_squeezed.ndim}\")"
      ],
      "metadata": {
        "colab": {
          "base_uri": "https://localhost:8080/"
        },
        "id": "_IJOC_0MoMyZ",
        "outputId": "ae28048a-3631-480d-a28e-c7c1016ba4ef"
      },
      "execution_count": null,
      "outputs": [
        {
          "output_type": "stream",
          "name": "stdout",
          "text": [
            "The new dimention from earlier ((TensorShape([10, 1, 1, 1, 10]), 5)) after squeesing(removing 1 dimension) : (TensorShape([10, 10]), 2)\n",
            "The new dimension from earlier ((TensorShape([10, 1, 1, 1, 10]), 5)) after squeesing(removing 1 dimension) : (TensorShape([10, 10]), 2)\n"
          ]
        }
      ]
    },
    {
      "cell_type": "code",
      "source": [
        " E=tf.constant(np.random.random(50))\n",
        " tf.math.reduce_std(G)"
      ],
      "metadata": {
        "colab": {
          "base_uri": "https://localhost:8080/"
        },
        "id": "bFB0Q9OwquPV",
        "outputId": "edb51c7c-5c45-49e8-f377-2b27991b9456"
      },
      "execution_count": null,
      "outputs": [
        {
          "output_type": "execute_result",
          "data": {
            "text/plain": [
              "<tf.Tensor: shape=(), dtype=float32, numpy=0.99284464>"
            ]
          },
          "metadata": {},
          "execution_count": 68
        }
      ]
    },
    {
      "cell_type": "code",
      "source": [
        "#ONE HOT ENCODING\n",
        "#One-hot encoding\n",
        "#If you have a tensor of indicies and would like to one-hot encode it, you can use tf.one_hot()\n",
        "\n",
        "# Create a list of indices\n",
        "some_list = [0, 1, 2,3] # value define the position of 1\n",
        "some_list1 = [3,2,1,0] # value define the position of 1\n",
        "\n",
        "# One hot encode them\n",
        "onehot1= tf.one_hot(some_list, depth=4)\n",
        "onehot11= tf.one_hot(some_list1, depth=4)\n",
        "print(onehot1, onehot11)\n",
        "# Specify custom values for on and off encoding\n",
        "onehot2= tf.one_hot(some_list, depth=4, on_value=\"AAA\", off_value=\"BBB\")\n",
        "onehot21= tf.one_hot(some_list1, depth=4, on_value=\"AAA\", off_value=\"BBB\")\n",
        "print(onehot2, onehot21)"
      ],
      "metadata": {
        "id": "vGzZzPUHvxl5",
        "colab": {
          "base_uri": "https://localhost:8080/"
        },
        "outputId": "540f9c7b-6c13-47ea-df7e-f44de378f73c"
      },
      "execution_count": null,
      "outputs": [
        {
          "output_type": "stream",
          "name": "stdout",
          "text": [
            "tf.Tensor(\n",
            "[[1. 0. 0. 0.]\n",
            " [0. 1. 0. 0.]\n",
            " [0. 0. 1. 0.]\n",
            " [0. 0. 0. 1.]], shape=(4, 4), dtype=float32) tf.Tensor(\n",
            "[[0. 0. 0. 1.]\n",
            " [0. 0. 1. 0.]\n",
            " [0. 1. 0. 0.]\n",
            " [1. 0. 0. 0.]], shape=(4, 4), dtype=float32)\n",
            "tf.Tensor(\n",
            "[[b'AAA' b'BBB' b'BBB' b'BBB']\n",
            " [b'BBB' b'AAA' b'BBB' b'BBB']\n",
            " [b'BBB' b'BBB' b'AAA' b'BBB']\n",
            " [b'BBB' b'BBB' b'BBB' b'AAA']], shape=(4, 4), dtype=string) tf.Tensor(\n",
            "[[b'BBB' b'BBB' b'BBB' b'AAA']\n",
            " [b'BBB' b'BBB' b'AAA' b'BBB']\n",
            " [b'BBB' b'AAA' b'BBB' b'BBB']\n",
            " [b'AAA' b'BBB' b'BBB' b'BBB']], shape=(4, 4), dtype=string)\n"
          ]
        }
      ]
    },
    {
      "cell_type": "markdown",
      "source": [
        "##Squaring, log, square root\n",
        "Many other common mathematical operations you'd like to perform at some stage, probably exist.\n",
        "\n",
        "Let's take a look at:\n",
        "\n",
        "*tf.square() - get the square of every value in a tensor.*\n",
        "\n",
        "*tf.sqrt() - get the squareroot of every value in a tensor (note: the elements need to be floats or this will error).*\n",
        "\n",
        "*tf.math.log() - get the natural log of every value in a tensor (elements need to floats).*"
      ],
      "metadata": {
        "id": "bbBXGFybVIQu"
      }
    },
    {
      "cell_type": "code",
      "source": [
        "# Create a new tensor\n",
        "H = tf.constant(np.arange(1, 10))\n",
        "H"
      ],
      "metadata": {
        "colab": {
          "base_uri": "https://localhost:8080/"
        },
        "id": "r5MUxC2MVDt9",
        "outputId": "7dee9c29-4fb6-454f-821e-6b64d574caa2"
      },
      "execution_count": null,
      "outputs": [
        {
          "output_type": "execute_result",
          "data": {
            "text/plain": [
              "<tf.Tensor: shape=(9,), dtype=int64, numpy=array([1, 2, 3, 4, 5, 6, 7, 8, 9])>"
            ]
          },
          "metadata": {},
          "execution_count": 70
        }
      ]
    },
    {
      "cell_type": "code",
      "source": [
        "# Square it\n",
        "tf.square(H)"
      ],
      "metadata": {
        "colab": {
          "base_uri": "https://localhost:8080/"
        },
        "id": "E3Xx93hyVruN",
        "outputId": "56960c9c-fe82-459a-dd4a-801a9bf121c1"
      },
      "execution_count": null,
      "outputs": [
        {
          "output_type": "execute_result",
          "data": {
            "text/plain": [
              "<tf.Tensor: shape=(9,), dtype=int64, numpy=array([ 1,  4,  9, 16, 25, 36, 49, 64, 81])>"
            ]
          },
          "metadata": {},
          "execution_count": 71
        }
      ]
    },
    {
      "cell_type": "code",
      "source": [
        "# for sqroot for some nember we need the vloues to be floatt\n",
        "tf.sqrt(tf.cast(H, dtype=tf.float32))"
      ],
      "metadata": {
        "colab": {
          "base_uri": "https://localhost:8080/"
        },
        "id": "gAye9xGuVum7",
        "outputId": "495fc0cd-e62d-4e97-9fae-a03381f05649"
      },
      "execution_count": null,
      "outputs": [
        {
          "output_type": "execute_result",
          "data": {
            "text/plain": [
              "<tf.Tensor: shape=(9,), dtype=float32, numpy=\n",
              "array([0.99999994, 1.4142134 , 1.7320508 , 1.9999999 , 2.236068  ,\n",
              "       2.4494896 , 2.6457512 , 2.8284268 , 3.        ], dtype=float32)>"
            ]
          },
          "metadata": {},
          "execution_count": 72
        }
      ]
    },
    {
      "cell_type": "code",
      "source": [
        "# same for log\n",
        "tf.math.log(tf.cast(H, dtype=tf.float32))\n"
      ],
      "metadata": {
        "colab": {
          "base_uri": "https://localhost:8080/"
        },
        "id": "dP4yPseqWHkl",
        "outputId": "d612b356-cbcc-4d45-dc3c-6284db358602"
      },
      "execution_count": null,
      "outputs": [
        {
          "output_type": "execute_result",
          "data": {
            "text/plain": [
              "<tf.Tensor: shape=(9,), dtype=float32, numpy=\n",
              "array([0.       , 0.6931472, 1.0986123, 1.3862944, 1.609438 , 1.7917595,\n",
              "       1.9459102, 2.0794415, 2.1972246], dtype=float32)>"
            ]
          },
          "metadata": {},
          "execution_count": 73
        }
      ]
    },
    {
      "cell_type": "markdown",
      "source": [
        "##Manipulating tf.Variable tensors\n",
        "Tensors created with tf.Variable() can be changed in place using methods such as:\n",
        "\n",
        "*.assign() - assign a different value to a particular index of a variable tensor.*\n",
        "\n",
        "*.add_assign() - add to an existing value and reassign it at a particular index of a variable tensor.*"
      ],
      "metadata": {
        "id": "cLM-lfyhXVoF"
      }
    },
    {
      "cell_type": "code",
      "source": [
        "I1=tf.constant(np.array([3,4,5]))\n",
        "print(f\"create tensor from numpy {I1}\")\n",
        "I2=np.array(I1)\n",
        "print(f\"convert it to numpy {I2}\")\n",
        "\n",
        "#I=tf.Variable(np.arrange(0,5))\n",
        "I = tf.Variable(np.arange(0, 5))\n",
        "I1, I2, I"
      ],
      "metadata": {
        "colab": {
          "base_uri": "https://localhost:8080/"
        },
        "id": "5joBvxgMWqs0",
        "outputId": "34f4b392-4bda-489c-ea4b-2d6931f27885"
      },
      "execution_count": null,
      "outputs": [
        {
          "output_type": "stream",
          "name": "stdout",
          "text": [
            "create tensor from numpy [3 4 5]\n",
            "convert it to numpy [3 4 5]\n"
          ]
        },
        {
          "output_type": "execute_result",
          "data": {
            "text/plain": [
              "(<tf.Tensor: shape=(3,), dtype=int64, numpy=array([3, 4, 5])>,\n",
              " array([3, 4, 5]),\n",
              " <tf.Variable 'Variable:0' shape=(5,) dtype=int64, numpy=array([0, 1, 2, 3, 4])>)"
            ]
          },
          "metadata": {},
          "execution_count": 74
        }
      ]
    },
    {
      "cell_type": "code",
      "source": [
        "I.assign([0, 1, 2, 3, 50])\n",
        "I"
      ],
      "metadata": {
        "colab": {
          "base_uri": "https://localhost:8080/"
        },
        "id": "qLh1fY5NX1uT",
        "outputId": "69a8466f-5a51-4ca9-809c-76a7d5d1bcdf"
      },
      "execution_count": null,
      "outputs": [
        {
          "output_type": "execute_result",
          "data": {
            "text/plain": [
              "<tf.Variable 'Variable:0' shape=(5,) dtype=int64, numpy=array([ 0,  1,  2,  3, 50])>"
            ]
          },
          "metadata": {},
          "execution_count": 75
        }
      ]
    },
    {
      "cell_type": "code",
      "source": [
        "I3=I.assign_add([10,10,10,10,20])\n",
        "I3"
      ],
      "metadata": {
        "colab": {
          "base_uri": "https://localhost:8080/"
        },
        "id": "oE-9jCDPYo7q",
        "outputId": "df457774-876b-42a1-babf-7c5be3aece4c"
      },
      "execution_count": null,
      "outputs": [
        {
          "output_type": "execute_result",
          "data": {
            "text/plain": [
              "<tf.Variable 'UnreadVariable' shape=(5,) dtype=int64, numpy=array([10, 11, 12, 13, 70])>"
            ]
          },
          "metadata": {},
          "execution_count": 76
        }
      ]
    },
    {
      "cell_type": "code",
      "source": [
        "#the changes remain asis\n",
        "I"
      ],
      "metadata": {
        "colab": {
          "base_uri": "https://localhost:8080/"
        },
        "id": "RnJ5tbMZY8qz",
        "outputId": "dcaa842a-9ded-44de-d594-45be9a680747"
      },
      "execution_count": null,
      "outputs": [
        {
          "output_type": "execute_result",
          "data": {
            "text/plain": [
              "<tf.Variable 'Variable:0' shape=(5,) dtype=int64, numpy=array([10, 11, 12, 13, 70])>"
            ]
          },
          "metadata": {},
          "execution_count": 77
        }
      ]
    },
    {
      "cell_type": "markdown",
      "source": [
        "##Tensors and NumPy\n",
        "We've seen some examples of tensors interact with NumPy arrays, such as, using NumPy arrays to create tensors.\n",
        "\n",
        "Tensors can also be converted to NumPy arrays using:\n",
        "\n",
        "* np.array() - pass a tensor to convert to an ndarray (NumPy's main datatype).\n",
        "\n",
        "* tensor.numpy() - call on a tensor to convert to an ndarray.\n",
        "\n",
        "Doing this is helpful as it makes tensors iterable as well as allows us to use any of NumPy's methods on them.\n",
        "\n",
        "By default tensors have dtype=float32, where as NumPy arrays have dtype=float64.\n",
        "\n",
        "This is because neural networks (which are usually built with TensorFlow) can generally work very well with less precision (32-bit rather than 64-bit)."
      ],
      "metadata": {
        "id": "mm7zawlFnLhT"
      }
    },
    {
      "cell_type": "code",
      "source": [
        "I1=tf.constant(np.array([3,4,5]))\n",
        "print(f\"create tensor from numpy {I1}\")\n",
        "I2=np.array(I1)\n",
        "print(f\"convert it to numpy {I2}\")\n",
        "\n",
        "#I=tf.Variable(np.arrange(0,5))\n",
        "# Create a tensor from a NumPy array\n",
        "J = tf.constant(np.array([3., 7., 10.]))\n",
        "# Convert tensor J to NumPy with np.array()\n",
        "print(f\"Convert tensor J to NumPy with np.array(): {J, np.array(J), type(np.array(J))}\")\n",
        "\n",
        "# Convert tensor J to NumPy with .numpy()\n",
        "J.numpy(), type(J.numpy())\n",
        " "
      ],
      "metadata": {
        "id": "qJQWfe9sZAaj",
        "colab": {
          "base_uri": "https://localhost:8080/"
        },
        "outputId": "e4d7a6c0-a901-45c2-e1e0-56ad0177f59a"
      },
      "execution_count": null,
      "outputs": [
        {
          "output_type": "stream",
          "name": "stdout",
          "text": [
            "create tensor from numpy [3 4 5]\n",
            "convert it to numpy [3 4 5]\n",
            "Convert tensor J to NumPy with np.array(): (<tf.Tensor: shape=(3,), dtype=float64, numpy=array([ 3.,  7., 10.])>, array([ 3.,  7., 10.]), <class 'numpy.ndarray'>)\n"
          ]
        },
        {
          "output_type": "execute_result",
          "data": {
            "text/plain": [
              "(array([ 3.,  7., 10.]), numpy.ndarray)"
            ]
          },
          "metadata": {},
          "execution_count": 78
        }
      ]
    },
    {
      "cell_type": "code",
      "source": [
        "# Create a tensor from NumPy and from an array\n",
        "numpy_J = tf.constant(np.array([3., 7., 10.])) # will be float64 (due to NumPy)\n",
        "tensor_J = tf.constant([3., 7., 10.]) # will be float32 (due to being TensorFlow default)\n",
        "numpy_J.dtype, tensor_J.dtype"
      ],
      "metadata": {
        "id": "BdzMwlp3obA8",
        "colab": {
          "base_uri": "https://localhost:8080/"
        },
        "outputId": "f2ef0ee4-a0b1-486b-c837-37b7518b931c"
      },
      "execution_count": null,
      "outputs": [
        {
          "output_type": "execute_result",
          "data": {
            "text/plain": [
              "(tf.float64, tf.float32)"
            ]
          },
          "metadata": {},
          "execution_count": 79
        }
      ]
    },
    {
      "cell_type": "markdown",
      "source": [
        "# **Finding access to GPUs**\n",
        "We've mentioned GPUs plenty of times throughout this notebook.\n",
        "\n",
        "So how do you check if you've got one available?\n",
        "\n",
        "You can check if you've got access to a GPU using tf.config.list_physical_devices()."
      ],
      "metadata": {
        "id": "ofkXsflb5e2b"
      }
    },
    {
      "cell_type": "code",
      "source": [
        "# Import TensorFlow\n",
        "import tensorflow as tf\n",
        "print(tf.__version__)\n",
        "#import tensorflow as tf\n",
        "print(tf.config.list_physical_devices())"
      ],
      "metadata": {
        "colab": {
          "base_uri": "https://localhost:8080/"
        },
        "id": "tt5QPUrx4apU",
        "outputId": "d2888de1-a63b-471e-aa89-879e377155db"
      },
      "execution_count": null,
      "outputs": [
        {
          "output_type": "stream",
          "name": "stdout",
          "text": [
            "2.8.2\n",
            "[PhysicalDevice(name='/physical_device:CPU:0', device_type='CPU'), PhysicalDevice(name='/physical_device:GPU:0', device_type='GPU')]\n"
          ]
        }
      ]
    },
    {
      "cell_type": "code",
      "source": [
        "!nvidia-smi"
      ],
      "metadata": {
        "colab": {
          "base_uri": "https://localhost:8080/"
        },
        "id": "Huq79Fsh6KsZ",
        "outputId": "3188f397-cd34-4c1a-b537-a5071ae8245f"
      },
      "execution_count": null,
      "outputs": [
        {
          "output_type": "stream",
          "name": "stdout",
          "text": [
            "Mon Oct 10 08:07:46 2022       \n",
            "+-----------------------------------------------------------------------------+\n",
            "| NVIDIA-SMI 460.32.03    Driver Version: 460.32.03    CUDA Version: 11.2     |\n",
            "|-------------------------------+----------------------+----------------------+\n",
            "| GPU  Name        Persistence-M| Bus-Id        Disp.A | Volatile Uncorr. ECC |\n",
            "| Fan  Temp  Perf  Pwr:Usage/Cap|         Memory-Usage | GPU-Util  Compute M. |\n",
            "|                               |                      |               MIG M. |\n",
            "|===============================+======================+======================|\n",
            "|   0  Tesla T4            Off  | 00000000:00:04.0 Off |                    0 |\n",
            "| N/A   62C    P8    10W /  70W |      3MiB / 15109MiB |      0%      Default |\n",
            "|                               |                      |                  N/A |\n",
            "+-------------------------------+----------------------+----------------------+\n",
            "                                                                               \n",
            "+-----------------------------------------------------------------------------+\n",
            "| Processes:                                                                  |\n",
            "|  GPU   GI   CI        PID   Type   Process name                  GPU Memory |\n",
            "|        ID   ID                                                   Usage      |\n",
            "|=============================================================================|\n",
            "|  No running processes found                                                 |\n",
            "+-----------------------------------------------------------------------------+\n"
          ]
        }
      ]
    },
    {
      "cell_type": "code",
      "source": [
        "#Created a tensor with random values of shape [1, 224, 224, 3] then squeeze it to change the shape to [224, 224, 3].\n",
        "\n",
        "\n",
        "z= H=tf.random.uniform(\n",
        "    shape=([1, 2, 2, 3]),\n",
        "    minval=0,\n",
        "    maxval=1,\n",
        "    dtype=tf.dtypes.float32,\n",
        "    seed=None,\n",
        "    name=None\n",
        ")\n",
        "z_squeeze=tf.squeeze(z)\n",
        "z_squeeze"
      ],
      "metadata": {
        "colab": {
          "base_uri": "https://localhost:8080/"
        },
        "id": "k5UdPcJ9734T",
        "outputId": "9d8b7bee-20bd-43a6-88d7-a26fa5421536"
      },
      "execution_count": null,
      "outputs": [
        {
          "output_type": "execute_result",
          "data": {
            "text/plain": [
              "<tf.Tensor: shape=(2, 2, 3), dtype=float32, numpy=\n",
              "array([[[0.5720277 , 0.7307117 , 0.23121285],\n",
              "        [0.55449975, 0.09435952, 0.24949217]],\n",
              "\n",
              "       [[0.566818  , 0.35391808, 0.8902519 ],\n",
              "        [0.23859966, 0.58639765, 0.10159516]]], dtype=float32)>"
            ]
          },
          "metadata": {},
          "execution_count": 14
        }
      ]
    },
    {
      "cell_type": "code",
      "source": [],
      "metadata": {
        "id": "JQESWadtKkxW"
      },
      "execution_count": null,
      "outputs": []
    }
  ]
}